{
 "cells": [
  {
   "cell_type": "code",
   "execution_count": 1,
   "id": "8b06a231",
   "metadata": {
    "_cell_guid": "b1076dfc-b9ad-4769-8c92-a6c4dae69d19",
    "_uuid": "8f2839f25d086af736a60e9eeb907d3b93b6e0e5",
    "execution": {
     "iopub.execute_input": "2022-11-24T19:00:32.909138Z",
     "iopub.status.busy": "2022-11-24T19:00:32.908585Z",
     "iopub.status.idle": "2022-11-24T19:00:32.925117Z",
     "shell.execute_reply": "2022-11-24T19:00:32.923525Z"
    },
    "papermill": {
     "duration": 0.037381,
     "end_time": "2022-11-24T19:00:32.928770",
     "exception": false,
     "start_time": "2022-11-24T19:00:32.891389",
     "status": "completed"
    },
    "tags": []
   },
   "outputs": [
    {
     "name": "stdout",
     "output_type": "stream",
     "text": [
      "/kaggle/input/titanic/train.csv\n",
      "/kaggle/input/titanic/test.csv\n",
      "/kaggle/input/titanic/gender_submission.csv\n"
     ]
    }
   ],
   "source": [
    "# This Python 3 environment comes with many helpful analytics libraries installed\n",
    "# It is defined by the kaggle/python Docker image: https://github.com/kaggle/docker-python\n",
    "# For example, here's several helpful packages to load\n",
    "\n",
    "import numpy as np # linear algebra\n",
    "import pandas as pd # data processing, CSV file I/O (e.g. pd.read_csv)\n",
    "\n",
    "# Input data files are available in the read-only \"../input/\" directory\n",
    "# For example, running this (by clicking run or pressing Shift+Enter) will list all files under the input directory\n",
    "\n",
    "import os\n",
    "for dirname, _, filenames in os.walk('/kaggle/input'):\n",
    "    for filename in filenames:\n",
    "        print(os.path.join(dirname, filename))\n",
    "\n",
    "# You can write up to 20GB to the current directory (/kaggle/working/) that gets preserved as output when you create a version using \"Save & Run All\" \n",
    "# You can also write temporary files to /kaggle/temp/, but they won't be saved outside of the current session"
   ]
  },
  {
   "cell_type": "code",
   "execution_count": 2,
   "id": "ed6b06f6",
   "metadata": {
    "execution": {
     "iopub.execute_input": "2022-11-24T19:00:32.959704Z",
     "iopub.status.busy": "2022-11-24T19:00:32.959233Z",
     "iopub.status.idle": "2022-11-24T19:00:34.106264Z",
     "shell.execute_reply": "2022-11-24T19:00:34.105098Z"
    },
    "papermill": {
     "duration": 1.167452,
     "end_time": "2022-11-24T19:00:34.109347",
     "exception": false,
     "start_time": "2022-11-24T19:00:32.941895",
     "status": "completed"
    },
    "tags": []
   },
   "outputs": [],
   "source": [
    "import matplotlib.pyplot as plt\n",
    "import seaborn as sns"
   ]
  },
  {
   "cell_type": "markdown",
   "id": "87f7663d",
   "metadata": {
    "papermill": {
     "duration": 0.012489,
     "end_time": "2022-11-24T19:00:34.135551",
     "exception": false,
     "start_time": "2022-11-24T19:00:34.123062",
     "status": "completed"
    },
    "tags": []
   },
   "source": [
    "# EDA\n",
    "\n",
    "* Will explore the dataset and perform typical EDA steps before moving onto prediction."
   ]
  },
  {
   "cell_type": "code",
   "execution_count": 3,
   "id": "100e1890",
   "metadata": {
    "execution": {
     "iopub.execute_input": "2022-11-24T19:00:34.164644Z",
     "iopub.status.busy": "2022-11-24T19:00:34.163328Z",
     "iopub.status.idle": "2022-11-24T19:00:34.206930Z",
     "shell.execute_reply": "2022-11-24T19:00:34.205762Z"
    },
    "papermill": {
     "duration": 0.060993,
     "end_time": "2022-11-24T19:00:34.209661",
     "exception": false,
     "start_time": "2022-11-24T19:00:34.148668",
     "status": "completed"
    },
    "tags": []
   },
   "outputs": [
    {
     "data": {
      "text/html": [
       "<div>\n",
       "<style scoped>\n",
       "    .dataframe tbody tr th:only-of-type {\n",
       "        vertical-align: middle;\n",
       "    }\n",
       "\n",
       "    .dataframe tbody tr th {\n",
       "        vertical-align: top;\n",
       "    }\n",
       "\n",
       "    .dataframe thead th {\n",
       "        text-align: right;\n",
       "    }\n",
       "</style>\n",
       "<table border=\"1\" class=\"dataframe\">\n",
       "  <thead>\n",
       "    <tr style=\"text-align: right;\">\n",
       "      <th></th>\n",
       "      <th>PassengerId</th>\n",
       "      <th>Survived</th>\n",
       "      <th>Pclass</th>\n",
       "      <th>Name</th>\n",
       "      <th>Sex</th>\n",
       "      <th>Age</th>\n",
       "      <th>SibSp</th>\n",
       "      <th>Parch</th>\n",
       "      <th>Ticket</th>\n",
       "      <th>Fare</th>\n",
       "      <th>Cabin</th>\n",
       "      <th>Embarked</th>\n",
       "    </tr>\n",
       "  </thead>\n",
       "  <tbody>\n",
       "    <tr>\n",
       "      <th>0</th>\n",
       "      <td>1</td>\n",
       "      <td>0</td>\n",
       "      <td>3</td>\n",
       "      <td>Braund, Mr. Owen Harris</td>\n",
       "      <td>male</td>\n",
       "      <td>22.0</td>\n",
       "      <td>1</td>\n",
       "      <td>0</td>\n",
       "      <td>A/5 21171</td>\n",
       "      <td>7.2500</td>\n",
       "      <td>NaN</td>\n",
       "      <td>S</td>\n",
       "    </tr>\n",
       "    <tr>\n",
       "      <th>1</th>\n",
       "      <td>2</td>\n",
       "      <td>1</td>\n",
       "      <td>1</td>\n",
       "      <td>Cumings, Mrs. John Bradley (Florence Briggs Th...</td>\n",
       "      <td>female</td>\n",
       "      <td>38.0</td>\n",
       "      <td>1</td>\n",
       "      <td>0</td>\n",
       "      <td>PC 17599</td>\n",
       "      <td>71.2833</td>\n",
       "      <td>C85</td>\n",
       "      <td>C</td>\n",
       "    </tr>\n",
       "    <tr>\n",
       "      <th>2</th>\n",
       "      <td>3</td>\n",
       "      <td>1</td>\n",
       "      <td>3</td>\n",
       "      <td>Heikkinen, Miss. Laina</td>\n",
       "      <td>female</td>\n",
       "      <td>26.0</td>\n",
       "      <td>0</td>\n",
       "      <td>0</td>\n",
       "      <td>STON/O2. 3101282</td>\n",
       "      <td>7.9250</td>\n",
       "      <td>NaN</td>\n",
       "      <td>S</td>\n",
       "    </tr>\n",
       "    <tr>\n",
       "      <th>3</th>\n",
       "      <td>4</td>\n",
       "      <td>1</td>\n",
       "      <td>1</td>\n",
       "      <td>Futrelle, Mrs. Jacques Heath (Lily May Peel)</td>\n",
       "      <td>female</td>\n",
       "      <td>35.0</td>\n",
       "      <td>1</td>\n",
       "      <td>0</td>\n",
       "      <td>113803</td>\n",
       "      <td>53.1000</td>\n",
       "      <td>C123</td>\n",
       "      <td>S</td>\n",
       "    </tr>\n",
       "    <tr>\n",
       "      <th>4</th>\n",
       "      <td>5</td>\n",
       "      <td>0</td>\n",
       "      <td>3</td>\n",
       "      <td>Allen, Mr. William Henry</td>\n",
       "      <td>male</td>\n",
       "      <td>35.0</td>\n",
       "      <td>0</td>\n",
       "      <td>0</td>\n",
       "      <td>373450</td>\n",
       "      <td>8.0500</td>\n",
       "      <td>NaN</td>\n",
       "      <td>S</td>\n",
       "    </tr>\n",
       "  </tbody>\n",
       "</table>\n",
       "</div>"
      ],
      "text/plain": [
       "   PassengerId  Survived  Pclass  \\\n",
       "0            1         0       3   \n",
       "1            2         1       1   \n",
       "2            3         1       3   \n",
       "3            4         1       1   \n",
       "4            5         0       3   \n",
       "\n",
       "                                                Name     Sex   Age  SibSp  \\\n",
       "0                            Braund, Mr. Owen Harris    male  22.0      1   \n",
       "1  Cumings, Mrs. John Bradley (Florence Briggs Th...  female  38.0      1   \n",
       "2                             Heikkinen, Miss. Laina  female  26.0      0   \n",
       "3       Futrelle, Mrs. Jacques Heath (Lily May Peel)  female  35.0      1   \n",
       "4                           Allen, Mr. William Henry    male  35.0      0   \n",
       "\n",
       "   Parch            Ticket     Fare Cabin Embarked  \n",
       "0      0         A/5 21171   7.2500   NaN        S  \n",
       "1      0          PC 17599  71.2833   C85        C  \n",
       "2      0  STON/O2. 3101282   7.9250   NaN        S  \n",
       "3      0            113803  53.1000  C123        S  \n",
       "4      0            373450   8.0500   NaN        S  "
      ]
     },
     "execution_count": 3,
     "metadata": {},
     "output_type": "execute_result"
    }
   ],
   "source": [
    "train = pd.read_csv('/kaggle/input/titanic/train.csv')\n",
    "train.head()"
   ]
  },
  {
   "cell_type": "code",
   "execution_count": 4,
   "id": "aa6c4703",
   "metadata": {
    "execution": {
     "iopub.execute_input": "2022-11-24T19:00:34.238689Z",
     "iopub.status.busy": "2022-11-24T19:00:34.238225Z",
     "iopub.status.idle": "2022-11-24T19:00:34.268690Z",
     "shell.execute_reply": "2022-11-24T19:00:34.267481Z"
    },
    "papermill": {
     "duration": 0.048227,
     "end_time": "2022-11-24T19:00:34.271490",
     "exception": false,
     "start_time": "2022-11-24T19:00:34.223263",
     "status": "completed"
    },
    "tags": []
   },
   "outputs": [
    {
     "name": "stdout",
     "output_type": "stream",
     "text": [
      "<class 'pandas.core.frame.DataFrame'>\n",
      "RangeIndex: 891 entries, 0 to 890\n",
      "Data columns (total 12 columns):\n",
      " #   Column       Non-Null Count  Dtype  \n",
      "---  ------       --------------  -----  \n",
      " 0   PassengerId  891 non-null    int64  \n",
      " 1   Survived     891 non-null    int64  \n",
      " 2   Pclass       891 non-null    int64  \n",
      " 3   Name         891 non-null    object \n",
      " 4   Sex          891 non-null    object \n",
      " 5   Age          714 non-null    float64\n",
      " 6   SibSp        891 non-null    int64  \n",
      " 7   Parch        891 non-null    int64  \n",
      " 8   Ticket       891 non-null    object \n",
      " 9   Fare         891 non-null    float64\n",
      " 10  Cabin        204 non-null    object \n",
      " 11  Embarked     889 non-null    object \n",
      "dtypes: float64(2), int64(5), object(5)\n",
      "memory usage: 83.7+ KB\n"
     ]
    }
   ],
   "source": [
    "train.info()"
   ]
  },
  {
   "cell_type": "markdown",
   "id": "343dcbf8",
   "metadata": {
    "papermill": {
     "duration": 0.012787,
     "end_time": "2022-11-24T19:00:34.297297",
     "exception": false,
     "start_time": "2022-11-24T19:00:34.284510",
     "status": "completed"
    },
    "tags": []
   },
   "source": [
    "Will look at each of the columns with missing values and deciding what approach to take in filling those in. \n",
    "\n",
    "1. Age\n",
    "2. Cabin\n",
    "3. Embarked "
   ]
  },
  {
   "cell_type": "code",
   "execution_count": 5,
   "id": "eccebbba",
   "metadata": {
    "execution": {
     "iopub.execute_input": "2022-11-24T19:00:34.325612Z",
     "iopub.status.busy": "2022-11-24T19:00:34.325135Z",
     "iopub.status.idle": "2022-11-24T19:00:34.339451Z",
     "shell.execute_reply": "2022-11-24T19:00:34.338084Z"
    },
    "papermill": {
     "duration": 0.032008,
     "end_time": "2022-11-24T19:00:34.342303",
     "exception": false,
     "start_time": "2022-11-24T19:00:34.310295",
     "status": "completed"
    },
    "tags": []
   },
   "outputs": [
    {
     "data": {
      "text/plain": [
       "count    714.000000\n",
       "mean      29.699118\n",
       "std       14.526497\n",
       "min        0.420000\n",
       "25%       20.125000\n",
       "50%       28.000000\n",
       "75%       38.000000\n",
       "max       80.000000\n",
       "Name: Age, dtype: float64"
      ]
     },
     "execution_count": 5,
     "metadata": {},
     "output_type": "execute_result"
    }
   ],
   "source": [
    "train['Age'].describe()"
   ]
  },
  {
   "cell_type": "code",
   "execution_count": 6,
   "id": "51c4b015",
   "metadata": {
    "execution": {
     "iopub.execute_input": "2022-11-24T19:00:34.371085Z",
     "iopub.status.busy": "2022-11-24T19:00:34.370231Z",
     "iopub.status.idle": "2022-11-24T19:00:34.669248Z",
     "shell.execute_reply": "2022-11-24T19:00:34.667963Z"
    },
    "papermill": {
     "duration": 0.316372,
     "end_time": "2022-11-24T19:00:34.672007",
     "exception": false,
     "start_time": "2022-11-24T19:00:34.355635",
     "status": "completed"
    },
    "tags": []
   },
   "outputs": [
    {
     "data": {
      "image/png": "[encoded data removed]",
      "text/plain": [
       "<Figure size 720x576 with 1 Axes>"
      ]
     },
     "metadata": {
      "needs_background": "light"
     },
     "output_type": "display_data"
    }
   ],
   "source": [
    "plt.figure(figsize=(10,8))\n",
    "sns.histplot(train['Age'])\n",
    "plt.show()"
   ]
  },
  {
   "cell_type": "code",
   "execution_count": 7,
   "id": "616bd35e",
   "metadata": {
    "execution": {
     "iopub.execute_input": "2022-11-24T19:00:34.700705Z",
     "iopub.status.busy": "2022-11-24T19:00:34.700262Z",
     "iopub.status.idle": "2022-11-24T19:00:34.725673Z",
     "shell.execute_reply": "2022-11-24T19:00:34.724396Z"
    },
    "papermill": {
     "duration": 0.042808,
     "end_time": "2022-11-24T19:00:34.728105",
     "exception": false,
     "start_time": "2022-11-24T19:00:34.685297",
     "status": "completed"
    },
    "tags": []
   },
   "outputs": [
    {
     "data": {
      "text/html": [
       "<div>\n",
       "<style scoped>\n",
       "    .dataframe tbody tr th:only-of-type {\n",
       "        vertical-align: middle;\n",
       "    }\n",
       "\n",
       "    .dataframe tbody tr th {\n",
       "        vertical-align: top;\n",
       "    }\n",
       "\n",
       "    .dataframe thead th {\n",
       "        text-align: right;\n",
       "    }\n",
       "</style>\n",
       "<table border=\"1\" class=\"dataframe\">\n",
       "  <thead>\n",
       "    <tr style=\"text-align: right;\">\n",
       "      <th></th>\n",
       "      <th>PassengerId</th>\n",
       "      <th>Survived</th>\n",
       "      <th>Pclass</th>\n",
       "      <th>Name</th>\n",
       "      <th>Sex</th>\n",
       "      <th>Age</th>\n",
       "      <th>SibSp</th>\n",
       "      <th>Parch</th>\n",
       "      <th>Ticket</th>\n",
       "      <th>Fare</th>\n",
       "      <th>Cabin</th>\n",
       "      <th>Embarked</th>\n",
       "    </tr>\n",
       "  </thead>\n",
       "  <tbody>\n",
       "    <tr>\n",
       "      <th>5</th>\n",
       "      <td>6</td>\n",
       "      <td>0</td>\n",
       "      <td>3</td>\n",
       "      <td>Moran, Mr. James</td>\n",
       "      <td>male</td>\n",
       "      <td>NaN</td>\n",
       "      <td>0</td>\n",
       "      <td>0</td>\n",
       "      <td>330877</td>\n",
       "      <td>8.4583</td>\n",
       "      <td>NaN</td>\n",
       "      <td>Q</td>\n",
       "    </tr>\n",
       "    <tr>\n",
       "      <th>17</th>\n",
       "      <td>18</td>\n",
       "      <td>1</td>\n",
       "      <td>2</td>\n",
       "      <td>Williams, Mr. Charles Eugene</td>\n",
       "      <td>male</td>\n",
       "      <td>NaN</td>\n",
       "      <td>0</td>\n",
       "      <td>0</td>\n",
       "      <td>244373</td>\n",
       "      <td>13.0000</td>\n",
       "      <td>NaN</td>\n",
       "      <td>S</td>\n",
       "    </tr>\n",
       "    <tr>\n",
       "      <th>19</th>\n",
       "      <td>20</td>\n",
       "      <td>1</td>\n",
       "      <td>3</td>\n",
       "      <td>Masselmani, Mrs. Fatima</td>\n",
       "      <td>female</td>\n",
       "      <td>NaN</td>\n",
       "      <td>0</td>\n",
       "      <td>0</td>\n",
       "      <td>2649</td>\n",
       "      <td>7.2250</td>\n",
       "      <td>NaN</td>\n",
       "      <td>C</td>\n",
       "    </tr>\n",
       "    <tr>\n",
       "      <th>26</th>\n",
       "      <td>27</td>\n",
       "      <td>0</td>\n",
       "      <td>3</td>\n",
       "      <td>Emir, Mr. Farred Chehab</td>\n",
       "      <td>male</td>\n",
       "      <td>NaN</td>\n",
       "      <td>0</td>\n",
       "      <td>0</td>\n",
       "      <td>2631</td>\n",
       "      <td>7.2250</td>\n",
       "      <td>NaN</td>\n",
       "      <td>C</td>\n",
       "    </tr>\n",
       "    <tr>\n",
       "      <th>28</th>\n",
       "      <td>29</td>\n",
       "      <td>1</td>\n",
       "      <td>3</td>\n",
       "      <td>O'Dwyer, Miss. Ellen \"Nellie\"</td>\n",
       "      <td>female</td>\n",
       "      <td>NaN</td>\n",
       "      <td>0</td>\n",
       "      <td>0</td>\n",
       "      <td>330959</td>\n",
       "      <td>7.8792</td>\n",
       "      <td>NaN</td>\n",
       "      <td>Q</td>\n",
       "    </tr>\n",
       "    <tr>\n",
       "      <th>...</th>\n",
       "      <td>...</td>\n",
       "      <td>...</td>\n",
       "      <td>...</td>\n",
       "      <td>...</td>\n",
       "      <td>...</td>\n",
       "      <td>...</td>\n",
       "      <td>...</td>\n",
       "      <td>...</td>\n",
       "      <td>...</td>\n",
       "      <td>...</td>\n",
       "      <td>...</td>\n",
       "      <td>...</td>\n",
       "    </tr>\n",
       "    <tr>\n",
       "      <th>859</th>\n",
       "      <td>860</td>\n",
       "      <td>0</td>\n",
       "      <td>3</td>\n",
       "      <td>Razi, Mr. Raihed</td>\n",
       "      <td>male</td>\n",
       "      <td>NaN</td>\n",
       "      <td>0</td>\n",
       "      <td>0</td>\n",
       "      <td>2629</td>\n",
       "      <td>7.2292</td>\n",
       "      <td>NaN</td>\n",
       "      <td>C</td>\n",
       "    </tr>\n",
       "    <tr>\n",
       "      <th>863</th>\n",
       "      <td>864</td>\n",
       "      <td>0</td>\n",
       "      <td>3</td>\n",
       "      <td>Sage, Miss. Dorothy Edith \"Dolly\"</td>\n",
       "      <td>female</td>\n",
       "      <td>NaN</td>\n",
       "      <td>8</td>\n",
       "      <td>2</td>\n",
       "      <td>CA. 2343</td>\n",
       "      <td>69.5500</td>\n",
       "      <td>NaN</td>\n",
       "      <td>S</td>\n",
       "    </tr>\n",
       "    <tr>\n",
       "      <th>868</th>\n",
       "      <td>869</td>\n",
       "      <td>0</td>\n",
       "      <td>3</td>\n",
       "      <td>van Melkebeke, Mr. Philemon</td>\n",
       "      <td>male</td>\n",
       "      <td>NaN</td>\n",
       "      <td>0</td>\n",
       "      <td>0</td>\n",
       "      <td>345777</td>\n",
       "      <td>9.5000</td>\n",
       "      <td>NaN</td>\n",
       "      <td>S</td>\n",
       "    </tr>\n",
       "    <tr>\n",
       "      <th>878</th>\n",
       "      <td>879</td>\n",
       "      <td>0</td>\n",
       "      <td>3</td>\n",
       "      <td>Laleff, Mr. Kristo</td>\n",
       "      <td>male</td>\n",
       "      <td>NaN</td>\n",
       "      <td>0</td>\n",
       "      <td>0</td>\n",
       "      <td>349217</td>\n",
       "      <td>7.8958</td>\n",
       "      <td>NaN</td>\n",
       "      <td>S</td>\n",
       "    </tr>\n",
       "    <tr>\n",
       "      <th>888</th>\n",
       "      <td>889</td>\n",
       "      <td>0</td>\n",
       "      <td>3</td>\n",
       "      <td>Johnston, Miss. Catherine Helen \"Carrie\"</td>\n",
       "      <td>female</td>\n",
       "      <td>NaN</td>\n",
       "      <td>1</td>\n",
       "      <td>2</td>\n",
       "      <td>W./C. 6607</td>\n",
       "      <td>23.4500</td>\n",
       "      <td>NaN</td>\n",
       "      <td>S</td>\n",
       "    </tr>\n",
       "  </tbody>\n",
       "</table>\n",
       "<p>177 rows × 12 columns</p>\n",
       "</div>"
      ],
      "text/plain": [
       "     PassengerId  Survived  Pclass                                      Name  \\\n",
       "5              6         0       3                          Moran, Mr. James   \n",
       "17            18         1       2              Williams, Mr. Charles Eugene   \n",
       "19            20         1       3                   Masselmani, Mrs. Fatima   \n",
       "26            27         0       3                   Emir, Mr. Farred Chehab   \n",
       "28            29         1       3             O'Dwyer, Miss. Ellen \"Nellie\"   \n",
       "..           ...       ...     ...                                       ...   \n",
       "859          860         0       3                          Razi, Mr. Raihed   \n",
       "863          864         0       3         Sage, Miss. Dorothy Edith \"Dolly\"   \n",
       "868          869         0       3               van Melkebeke, Mr. Philemon   \n",
       "878          879         0       3                        Laleff, Mr. Kristo   \n",
       "888          889         0       3  Johnston, Miss. Catherine Helen \"Carrie\"   \n",
       "\n",
       "        Sex  Age  SibSp  Parch      Ticket     Fare Cabin Embarked  \n",
       "5      male  NaN      0      0      330877   8.4583   NaN        Q  \n",
       "17     male  NaN      0      0      244373  13.0000   NaN        S  \n",
       "19   female  NaN      0      0        2649   7.2250   NaN        C  \n",
       "26     male  NaN      0      0        2631   7.2250   NaN        C  \n",
       "28   female  NaN      0      0      330959   7.8792   NaN        Q  \n",
       "..      ...  ...    ...    ...         ...      ...   ...      ...  \n",
       "859    male  NaN      0      0        2629   7.2292   NaN        C  \n",
       "863  female  NaN      8      2    CA. 2343  69.5500   NaN        S  \n",
       "868    male  NaN      0      0      345777   9.5000   NaN        S  \n",
       "878    male  NaN      0      0      349217   7.8958   NaN        S  \n",
       "888  female  NaN      1      2  W./C. 6607  23.4500   NaN        S  \n",
       "\n",
       "[177 rows x 12 columns]"
      ]
     },
     "execution_count": 7,
     "metadata": {},
     "output_type": "execute_result"
    }
   ],
   "source": [
    "train[train['Age'].isnull()]"
   ]
  },
  {
   "cell_type": "markdown",
   "id": "d8e16f40",
   "metadata": {
    "papermill": {
     "duration": 0.013138,
     "end_time": "2022-11-24T19:00:34.755155",
     "exception": false,
     "start_time": "2022-11-24T19:00:34.742017",
     "status": "completed"
    },
    "tags": []
   },
   "source": [
    "Will use a simple approach to filling in age, which is to fill in the mean."
   ]
  },
  {
   "cell_type": "code",
   "execution_count": 8,
   "id": "f689fbfa",
   "metadata": {
    "execution": {
     "iopub.execute_input": "2022-11-24T19:00:34.784534Z",
     "iopub.status.busy": "2022-11-24T19:00:34.784079Z",
     "iopub.status.idle": "2022-11-24T19:00:34.790128Z",
     "shell.execute_reply": "2022-11-24T19:00:34.789110Z"
    },
    "papermill": {
     "duration": 0.023794,
     "end_time": "2022-11-24T19:00:34.792657",
     "exception": false,
     "start_time": "2022-11-24T19:00:34.768863",
     "status": "completed"
    },
    "tags": []
   },
   "outputs": [],
   "source": [
    "train['Age'].fillna(train['Age'].mean(), inplace=True)"
   ]
  },
  {
   "cell_type": "code",
   "execution_count": 9,
   "id": "a20009db",
   "metadata": {
    "execution": {
     "iopub.execute_input": "2022-11-24T19:00:34.821682Z",
     "iopub.status.busy": "2022-11-24T19:00:34.821238Z",
     "iopub.status.idle": "2022-11-24T19:00:34.830406Z",
     "shell.execute_reply": "2022-11-24T19:00:34.829241Z"
    },
    "papermill": {
     "duration": 0.026695,
     "end_time": "2022-11-24T19:00:34.832887",
     "exception": false,
     "start_time": "2022-11-24T19:00:34.806192",
     "status": "completed"
    },
    "tags": []
   },
   "outputs": [
    {
     "data": {
      "text/plain": [
       "0"
      ]
     },
     "execution_count": 9,
     "metadata": {},
     "output_type": "execute_result"
    }
   ],
   "source": [
    "train['Age'].isna().sum()"
   ]
  },
  {
   "cell_type": "code",
   "execution_count": 10,
   "id": "decd8fd0",
   "metadata": {
    "execution": {
     "iopub.execute_input": "2022-11-24T19:00:34.863022Z",
     "iopub.status.busy": "2022-11-24T19:00:34.862589Z",
     "iopub.status.idle": "2022-11-24T19:00:34.888625Z",
     "shell.execute_reply": "2022-11-24T19:00:34.887454Z"
    },
    "papermill": {
     "duration": 0.044308,
     "end_time": "2022-11-24T19:00:34.891428",
     "exception": false,
     "start_time": "2022-11-24T19:00:34.847120",
     "status": "completed"
    },
    "tags": []
   },
   "outputs": [
    {
     "data": {
      "text/html": [
       "<div>\n",
       "<style scoped>\n",
       "    .dataframe tbody tr th:only-of-type {\n",
       "        vertical-align: middle;\n",
       "    }\n",
       "\n",
       "    .dataframe tbody tr th {\n",
       "        vertical-align: top;\n",
       "    }\n",
       "\n",
       "    .dataframe thead th {\n",
       "        text-align: right;\n",
       "    }\n",
       "</style>\n",
       "<table border=\"1\" class=\"dataframe\">\n",
       "  <thead>\n",
       "    <tr style=\"text-align: right;\">\n",
       "      <th></th>\n",
       "      <th>PassengerId</th>\n",
       "      <th>Survived</th>\n",
       "      <th>Pclass</th>\n",
       "      <th>Name</th>\n",
       "      <th>Sex</th>\n",
       "      <th>Age</th>\n",
       "      <th>SibSp</th>\n",
       "      <th>Parch</th>\n",
       "      <th>Ticket</th>\n",
       "      <th>Fare</th>\n",
       "      <th>Cabin</th>\n",
       "      <th>Embarked</th>\n",
       "    </tr>\n",
       "  </thead>\n",
       "  <tbody>\n",
       "    <tr>\n",
       "      <th>0</th>\n",
       "      <td>1</td>\n",
       "      <td>0</td>\n",
       "      <td>3</td>\n",
       "      <td>Braund, Mr. Owen Harris</td>\n",
       "      <td>male</td>\n",
       "      <td>22.000000</td>\n",
       "      <td>1</td>\n",
       "      <td>0</td>\n",
       "      <td>A/5 21171</td>\n",
       "      <td>7.2500</td>\n",
       "      <td>NaN</td>\n",
       "      <td>S</td>\n",
       "    </tr>\n",
       "    <tr>\n",
       "      <th>2</th>\n",
       "      <td>3</td>\n",
       "      <td>1</td>\n",
       "      <td>3</td>\n",
       "      <td>Heikkinen, Miss. Laina</td>\n",
       "      <td>female</td>\n",
       "      <td>26.000000</td>\n",
       "      <td>0</td>\n",
       "      <td>0</td>\n",
       "      <td>STON/O2. 3101282</td>\n",
       "      <td>7.9250</td>\n",
       "      <td>NaN</td>\n",
       "      <td>S</td>\n",
       "    </tr>\n",
       "    <tr>\n",
       "      <th>4</th>\n",
       "      <td>5</td>\n",
       "      <td>0</td>\n",
       "      <td>3</td>\n",
       "      <td>Allen, Mr. William Henry</td>\n",
       "      <td>male</td>\n",
       "      <td>35.000000</td>\n",
       "      <td>0</td>\n",
       "      <td>0</td>\n",
       "      <td>373450</td>\n",
       "      <td>8.0500</td>\n",
       "      <td>NaN</td>\n",
       "      <td>S</td>\n",
       "    </tr>\n",
       "    <tr>\n",
       "      <th>5</th>\n",
       "      <td>6</td>\n",
       "      <td>0</td>\n",
       "      <td>3</td>\n",
       "      <td>Moran, Mr. James</td>\n",
       "      <td>male</td>\n",
       "      <td>29.699118</td>\n",
       "      <td>0</td>\n",
       "      <td>0</td>\n",
       "      <td>330877</td>\n",
       "      <td>8.4583</td>\n",
       "      <td>NaN</td>\n",
       "      <td>Q</td>\n",
       "    </tr>\n",
       "    <tr>\n",
       "      <th>7</th>\n",
       "      <td>8</td>\n",
       "      <td>0</td>\n",
       "      <td>3</td>\n",
       "      <td>Palsson, Master. Gosta Leonard</td>\n",
       "      <td>male</td>\n",
       "      <td>2.000000</td>\n",
       "      <td>3</td>\n",
       "      <td>1</td>\n",
       "      <td>349909</td>\n",
       "      <td>21.0750</td>\n",
       "      <td>NaN</td>\n",
       "      <td>S</td>\n",
       "    </tr>\n",
       "    <tr>\n",
       "      <th>...</th>\n",
       "      <td>...</td>\n",
       "      <td>...</td>\n",
       "      <td>...</td>\n",
       "      <td>...</td>\n",
       "      <td>...</td>\n",
       "      <td>...</td>\n",
       "      <td>...</td>\n",
       "      <td>...</td>\n",
       "      <td>...</td>\n",
       "      <td>...</td>\n",
       "      <td>...</td>\n",
       "      <td>...</td>\n",
       "    </tr>\n",
       "    <tr>\n",
       "      <th>884</th>\n",
       "      <td>885</td>\n",
       "      <td>0</td>\n",
       "      <td>3</td>\n",
       "      <td>Sutehall, Mr. Henry Jr</td>\n",
       "      <td>male</td>\n",
       "      <td>25.000000</td>\n",
       "      <td>0</td>\n",
       "      <td>0</td>\n",
       "      <td>SOTON/OQ 392076</td>\n",
       "      <td>7.0500</td>\n",
       "      <td>NaN</td>\n",
       "      <td>S</td>\n",
       "    </tr>\n",
       "    <tr>\n",
       "      <th>885</th>\n",
       "      <td>886</td>\n",
       "      <td>0</td>\n",
       "      <td>3</td>\n",
       "      <td>Rice, Mrs. William (Margaret Norton)</td>\n",
       "      <td>female</td>\n",
       "      <td>39.000000</td>\n",
       "      <td>0</td>\n",
       "      <td>5</td>\n",
       "      <td>382652</td>\n",
       "      <td>29.1250</td>\n",
       "      <td>NaN</td>\n",
       "      <td>Q</td>\n",
       "    </tr>\n",
       "    <tr>\n",
       "      <th>886</th>\n",
       "      <td>887</td>\n",
       "      <td>0</td>\n",
       "      <td>2</td>\n",
       "      <td>Montvila, Rev. Juozas</td>\n",
       "      <td>male</td>\n",
       "      <td>27.000000</td>\n",
       "      <td>0</td>\n",
       "      <td>0</td>\n",
       "      <td>211536</td>\n",
       "      <td>13.0000</td>\n",
       "      <td>NaN</td>\n",
       "      <td>S</td>\n",
       "    </tr>\n",
       "    <tr>\n",
       "      <th>888</th>\n",
       "      <td>889</td>\n",
       "      <td>0</td>\n",
       "      <td>3</td>\n",
       "      <td>Johnston, Miss. Catherine Helen \"Carrie\"</td>\n",
       "      <td>female</td>\n",
       "      <td>29.699118</td>\n",
       "      <td>1</td>\n",
       "      <td>2</td>\n",
       "      <td>W./C. 6607</td>\n",
       "      <td>23.4500</td>\n",
       "      <td>NaN</td>\n",
       "      <td>S</td>\n",
       "    </tr>\n",
       "    <tr>\n",
       "      <th>890</th>\n",
       "      <td>891</td>\n",
       "      <td>0</td>\n",
       "      <td>3</td>\n",
       "      <td>Dooley, Mr. Patrick</td>\n",
       "      <td>male</td>\n",
       "      <td>32.000000</td>\n",
       "      <td>0</td>\n",
       "      <td>0</td>\n",
       "      <td>370376</td>\n",
       "      <td>7.7500</td>\n",
       "      <td>NaN</td>\n",
       "      <td>Q</td>\n",
       "    </tr>\n",
       "  </tbody>\n",
       "</table>\n",
       "<p>687 rows × 12 columns</p>\n",
       "</div>"
      ],
      "text/plain": [
       "     PassengerId  Survived  Pclass                                      Name  \\\n",
       "0              1         0       3                   Braund, Mr. Owen Harris   \n",
       "2              3         1       3                    Heikkinen, Miss. Laina   \n",
       "4              5         0       3                  Allen, Mr. William Henry   \n",
       "5              6         0       3                          Moran, Mr. James   \n",
       "7              8         0       3            Palsson, Master. Gosta Leonard   \n",
       "..           ...       ...     ...                                       ...   \n",
       "884          885         0       3                    Sutehall, Mr. Henry Jr   \n",
       "885          886         0       3      Rice, Mrs. William (Margaret Norton)   \n",
       "886          887         0       2                     Montvila, Rev. Juozas   \n",
       "888          889         0       3  Johnston, Miss. Catherine Helen \"Carrie\"   \n",
       "890          891         0       3                       Dooley, Mr. Patrick   \n",
       "\n",
       "        Sex        Age  SibSp  Parch            Ticket     Fare Cabin Embarked  \n",
       "0      male  22.000000      1      0         A/5 21171   7.2500   NaN        S  \n",
       "2    female  26.000000      0      0  STON/O2. 3101282   7.9250   NaN        S  \n",
       "4      male  35.000000      0      0            373450   8.0500   NaN        S  \n",
       "5      male  29.699118      0      0            330877   8.4583   NaN        Q  \n",
       "7      male   2.000000      3      1            349909  21.0750   NaN        S  \n",
       "..      ...        ...    ...    ...               ...      ...   ...      ...  \n",
       "884    male  25.000000      0      0   SOTON/OQ 392076   7.0500   NaN        S  \n",
       "885  female  39.000000      0      5            382652  29.1250   NaN        Q  \n",
       "886    male  27.000000      0      0            211536  13.0000   NaN        S  \n",
       "888  female  29.699118      1      2        W./C. 6607  23.4500   NaN        S  \n",
       "890    male  32.000000      0      0            370376   7.7500   NaN        Q  \n",
       "\n",
       "[687 rows x 12 columns]"
      ]
     },
     "execution_count": 10,
     "metadata": {},
     "output_type": "execute_result"
    }
   ],
   "source": [
    "train[train['Cabin'].isnull()]"
   ]
  },
  {
   "cell_type": "markdown",
   "id": "02354d0f",
   "metadata": {
    "papermill": {
     "duration": 0.013854,
     "end_time": "2022-11-24T19:00:34.919831",
     "exception": false,
     "start_time": "2022-11-24T19:00:34.905977",
     "status": "completed"
    },
    "tags": []
   },
   "source": [
    "Is there any relationship between missing cabin values and class?"
   ]
  },
  {
   "cell_type": "code",
   "execution_count": 11,
   "id": "c9f08b56",
   "metadata": {
    "execution": {
     "iopub.execute_input": "2022-11-24T19:00:34.950394Z",
     "iopub.status.busy": "2022-11-24T19:00:34.949916Z",
     "iopub.status.idle": "2022-11-24T19:00:34.961538Z",
     "shell.execute_reply": "2022-11-24T19:00:34.960499Z"
    },
    "papermill": {
     "duration": 0.02983,
     "end_time": "2022-11-24T19:00:34.964009",
     "exception": false,
     "start_time": "2022-11-24T19:00:34.934179",
     "status": "completed"
    },
    "tags": []
   },
   "outputs": [
    {
     "data": {
      "text/plain": [
       "3    479\n",
       "2    168\n",
       "1     40\n",
       "Name: Pclass, dtype: int64"
      ]
     },
     "execution_count": 11,
     "metadata": {},
     "output_type": "execute_result"
    }
   ],
   "source": [
    "train[train['Cabin'].isnull()]['Pclass'].value_counts()"
   ]
  },
  {
   "cell_type": "code",
   "execution_count": 12,
   "id": "e2e6fbd8",
   "metadata": {
    "execution": {
     "iopub.execute_input": "2022-11-24T19:00:34.995569Z",
     "iopub.status.busy": "2022-11-24T19:00:34.995107Z",
     "iopub.status.idle": "2022-11-24T19:00:35.003177Z",
     "shell.execute_reply": "2022-11-24T19:00:35.002209Z"
    },
    "papermill": {
     "duration": 0.026854,
     "end_time": "2022-11-24T19:00:35.006029",
     "exception": false,
     "start_time": "2022-11-24T19:00:34.979175",
     "status": "completed"
    },
    "tags": []
   },
   "outputs": [
    {
     "name": "stdout",
     "output_type": "stream",
     "text": [
      "There are 491 3rd class passengers, out of which 479 don't have a cabin number.\n"
     ]
    }
   ],
   "source": [
    "print(f'There are {train[train[\"Pclass\"]==3].shape[0]} 3rd class passengers, out of which {train[(train[\"Pclass\"]==3) & (train[\"Cabin\"].isnull())].shape[0]} don\\'t have a cabin number.')"
   ]
  },
  {
   "cell_type": "markdown",
   "id": "0aa02c0e",
   "metadata": {
    "papermill": {
     "duration": 0.014027,
     "end_time": "2022-11-24T19:00:35.034821",
     "exception": false,
     "start_time": "2022-11-24T19:00:35.020794",
     "status": "completed"
    },
    "tags": []
   },
   "source": [
    "- Majority of missing values are in the 3rd class passengers. \n",
    "\n",
    "We know that cabins and classes mean that passengers would be in different locations on the ship, which may impact their survival based on how quickly they can get to a life boat. However as we are missing so many values, will take class as a proxy for the cabin location and drop the column entirely. "
   ]
  },
  {
   "cell_type": "code",
   "execution_count": 13,
   "id": "2f298090",
   "metadata": {
    "execution": {
     "iopub.execute_input": "2022-11-24T19:00:35.068204Z",
     "iopub.status.busy": "2022-11-24T19:00:35.067740Z",
     "iopub.status.idle": "2022-11-24T19:00:35.074187Z",
     "shell.execute_reply": "2022-11-24T19:00:35.072950Z"
    },
    "papermill": {
     "duration": 0.025677,
     "end_time": "2022-11-24T19:00:35.077039",
     "exception": false,
     "start_time": "2022-11-24T19:00:35.051362",
     "status": "completed"
    },
    "tags": []
   },
   "outputs": [],
   "source": [
    "train.drop(columns=['Cabin'], inplace = True)"
   ]
  },
  {
   "cell_type": "code",
   "execution_count": 14,
   "id": "a779ecb0",
   "metadata": {
    "execution": {
     "iopub.execute_input": "2022-11-24T19:00:35.113593Z",
     "iopub.status.busy": "2022-11-24T19:00:35.112388Z",
     "iopub.status.idle": "2022-11-24T19:00:35.128374Z",
     "shell.execute_reply": "2022-11-24T19:00:35.127183Z"
    },
    "papermill": {
     "duration": 0.040265,
     "end_time": "2022-11-24T19:00:35.133663",
     "exception": false,
     "start_time": "2022-11-24T19:00:35.093398",
     "status": "completed"
    },
    "tags": []
   },
   "outputs": [
    {
     "name": "stdout",
     "output_type": "stream",
     "text": [
      "<class 'pandas.core.frame.DataFrame'>\n",
      "RangeIndex: 891 entries, 0 to 890\n",
      "Data columns (total 11 columns):\n",
      " #   Column       Non-Null Count  Dtype  \n",
      "---  ------       --------------  -----  \n",
      " 0   PassengerId  891 non-null    int64  \n",
      " 1   Survived     891 non-null    int64  \n",
      " 2   Pclass       891 non-null    int64  \n",
      " 3   Name         891 non-null    object \n",
      " 4   Sex          891 non-null    object \n",
      " 5   Age          891 non-null    float64\n",
      " 6   SibSp        891 non-null    int64  \n",
      " 7   Parch        891 non-null    int64  \n",
      " 8   Ticket       891 non-null    object \n",
      " 9   Fare         891 non-null    float64\n",
      " 10  Embarked     889 non-null    object \n",
      "dtypes: float64(2), int64(5), object(4)\n",
      "memory usage: 76.7+ KB\n"
     ]
    }
   ],
   "source": [
    "train.info()"
   ]
  },
  {
   "cell_type": "code",
   "execution_count": 15,
   "id": "93b2764d",
   "metadata": {
    "execution": {
     "iopub.execute_input": "2022-11-24T19:00:35.171676Z",
     "iopub.status.busy": "2022-11-24T19:00:35.170371Z",
     "iopub.status.idle": "2022-11-24T19:00:35.183377Z",
     "shell.execute_reply": "2022-11-24T19:00:35.179841Z"
    },
    "papermill": {
     "duration": 0.035527,
     "end_time": "2022-11-24T19:00:35.187744",
     "exception": false,
     "start_time": "2022-11-24T19:00:35.152217",
     "status": "completed"
    },
    "tags": []
   },
   "outputs": [
    {
     "data": {
      "text/plain": [
       "S    644\n",
       "C    168\n",
       "Q     77\n",
       "Name: Embarked, dtype: int64"
      ]
     },
     "execution_count": 15,
     "metadata": {},
     "output_type": "execute_result"
    }
   ],
   "source": [
    "train['Embarked'].value_counts()"
   ]
  },
  {
   "cell_type": "code",
   "execution_count": 16,
   "id": "55adddc4",
   "metadata": {
    "execution": {
     "iopub.execute_input": "2022-11-24T19:00:35.221026Z",
     "iopub.status.busy": "2022-11-24T19:00:35.220566Z",
     "iopub.status.idle": "2022-11-24T19:00:35.238255Z",
     "shell.execute_reply": "2022-11-24T19:00:35.236690Z"
    },
    "papermill": {
     "duration": 0.036848,
     "end_time": "2022-11-24T19:00:35.241006",
     "exception": false,
     "start_time": "2022-11-24T19:00:35.204158",
     "status": "completed"
    },
    "tags": []
   },
   "outputs": [
    {
     "data": {
      "text/html": [
       "<div>\n",
       "<style scoped>\n",
       "    .dataframe tbody tr th:only-of-type {\n",
       "        vertical-align: middle;\n",
       "    }\n",
       "\n",
       "    .dataframe tbody tr th {\n",
       "        vertical-align: top;\n",
       "    }\n",
       "\n",
       "    .dataframe thead th {\n",
       "        text-align: right;\n",
       "    }\n",
       "</style>\n",
       "<table border=\"1\" class=\"dataframe\">\n",
       "  <thead>\n",
       "    <tr style=\"text-align: right;\">\n",
       "      <th></th>\n",
       "      <th>PassengerId</th>\n",
       "      <th>Survived</th>\n",
       "      <th>Pclass</th>\n",
       "      <th>Name</th>\n",
       "      <th>Sex</th>\n",
       "      <th>Age</th>\n",
       "      <th>SibSp</th>\n",
       "      <th>Parch</th>\n",
       "      <th>Ticket</th>\n",
       "      <th>Fare</th>\n",
       "      <th>Embarked</th>\n",
       "    </tr>\n",
       "  </thead>\n",
       "  <tbody>\n",
       "    <tr>\n",
       "      <th>61</th>\n",
       "      <td>62</td>\n",
       "      <td>1</td>\n",
       "      <td>1</td>\n",
       "      <td>Icard, Miss. Amelie</td>\n",
       "      <td>female</td>\n",
       "      <td>38.0</td>\n",
       "      <td>0</td>\n",
       "      <td>0</td>\n",
       "      <td>113572</td>\n",
       "      <td>80.0</td>\n",
       "      <td>NaN</td>\n",
       "    </tr>\n",
       "    <tr>\n",
       "      <th>829</th>\n",
       "      <td>830</td>\n",
       "      <td>1</td>\n",
       "      <td>1</td>\n",
       "      <td>Stone, Mrs. George Nelson (Martha Evelyn)</td>\n",
       "      <td>female</td>\n",
       "      <td>62.0</td>\n",
       "      <td>0</td>\n",
       "      <td>0</td>\n",
       "      <td>113572</td>\n",
       "      <td>80.0</td>\n",
       "      <td>NaN</td>\n",
       "    </tr>\n",
       "  </tbody>\n",
       "</table>\n",
       "</div>"
      ],
      "text/plain": [
       "     PassengerId  Survived  Pclass                                       Name  \\\n",
       "61            62         1       1                        Icard, Miss. Amelie   \n",
       "829          830         1       1  Stone, Mrs. George Nelson (Martha Evelyn)   \n",
       "\n",
       "        Sex   Age  SibSp  Parch  Ticket  Fare Embarked  \n",
       "61   female  38.0      0      0  113572  80.0      NaN  \n",
       "829  female  62.0      0      0  113572  80.0      NaN  "
      ]
     },
     "execution_count": 16,
     "metadata": {},
     "output_type": "execute_result"
    }
   ],
   "source": [
    "train[train['Embarked'].isna()]"
   ]
  },
  {
   "cell_type": "code",
   "execution_count": 17,
   "id": "01f851d2",
   "metadata": {
    "execution": {
     "iopub.execute_input": "2022-11-24T19:00:35.272533Z",
     "iopub.status.busy": "2022-11-24T19:00:35.272086Z",
     "iopub.status.idle": "2022-11-24T19:00:35.278296Z",
     "shell.execute_reply": "2022-11-24T19:00:35.277178Z"
    },
    "papermill": {
     "duration": 0.024856,
     "end_time": "2022-11-24T19:00:35.280656",
     "exception": false,
     "start_time": "2022-11-24T19:00:35.255800",
     "status": "completed"
    },
    "tags": []
   },
   "outputs": [],
   "source": [
    "train.Embarked.fillna('S', inplace=True)"
   ]
  },
  {
   "cell_type": "code",
   "execution_count": 18,
   "id": "025bf588",
   "metadata": {
    "execution": {
     "iopub.execute_input": "2022-11-24T19:00:35.313323Z",
     "iopub.status.busy": "2022-11-24T19:00:35.312859Z",
     "iopub.status.idle": "2022-11-24T19:00:35.327926Z",
     "shell.execute_reply": "2022-11-24T19:00:35.326624Z"
    },
    "papermill": {
     "duration": 0.035023,
     "end_time": "2022-11-24T19:00:35.330765",
     "exception": false,
     "start_time": "2022-11-24T19:00:35.295742",
     "status": "completed"
    },
    "tags": []
   },
   "outputs": [
    {
     "name": "stdout",
     "output_type": "stream",
     "text": [
      "<class 'pandas.core.frame.DataFrame'>\n",
      "RangeIndex: 891 entries, 0 to 890\n",
      "Data columns (total 11 columns):\n",
      " #   Column       Non-Null Count  Dtype  \n",
      "---  ------       --------------  -----  \n",
      " 0   PassengerId  891 non-null    int64  \n",
      " 1   Survived     891 non-null    int64  \n",
      " 2   Pclass       891 non-null    int64  \n",
      " 3   Name         891 non-null    object \n",
      " 4   Sex          891 non-null    object \n",
      " 5   Age          891 non-null    float64\n",
      " 6   SibSp        891 non-null    int64  \n",
      " 7   Parch        891 non-null    int64  \n",
      " 8   Ticket       891 non-null    object \n",
      " 9   Fare         891 non-null    float64\n",
      " 10  Embarked     891 non-null    object \n",
      "dtypes: float64(2), int64(5), object(4)\n",
      "memory usage: 76.7+ KB\n"
     ]
    }
   ],
   "source": [
    "train.info()"
   ]
  },
  {
   "cell_type": "code",
   "execution_count": 19,
   "id": "1e766c2f",
   "metadata": {
    "execution": {
     "iopub.execute_input": "2022-11-24T19:00:35.364920Z",
     "iopub.status.busy": "2022-11-24T19:00:35.363760Z",
     "iopub.status.idle": "2022-11-24T19:00:35.381922Z",
     "shell.execute_reply": "2022-11-24T19:00:35.380769Z"
    },
    "papermill": {
     "duration": 0.037824,
     "end_time": "2022-11-24T19:00:35.384348",
     "exception": false,
     "start_time": "2022-11-24T19:00:35.346524",
     "status": "completed"
    },
    "tags": []
   },
   "outputs": [
    {
     "data": {
      "text/html": [
       "<div>\n",
       "<style scoped>\n",
       "    .dataframe tbody tr th:only-of-type {\n",
       "        vertical-align: middle;\n",
       "    }\n",
       "\n",
       "    .dataframe tbody tr th {\n",
       "        vertical-align: top;\n",
       "    }\n",
       "\n",
       "    .dataframe thead th {\n",
       "        text-align: right;\n",
       "    }\n",
       "</style>\n",
       "<table border=\"1\" class=\"dataframe\">\n",
       "  <thead>\n",
       "    <tr style=\"text-align: right;\">\n",
       "      <th></th>\n",
       "      <th>PassengerId</th>\n",
       "      <th>Survived</th>\n",
       "      <th>Pclass</th>\n",
       "      <th>Name</th>\n",
       "      <th>Sex</th>\n",
       "      <th>Age</th>\n",
       "      <th>SibSp</th>\n",
       "      <th>Parch</th>\n",
       "      <th>Ticket</th>\n",
       "      <th>Fare</th>\n",
       "      <th>Embarked</th>\n",
       "    </tr>\n",
       "  </thead>\n",
       "  <tbody>\n",
       "    <tr>\n",
       "      <th>0</th>\n",
       "      <td>1</td>\n",
       "      <td>0</td>\n",
       "      <td>3</td>\n",
       "      <td>Braund, Mr. Owen Harris</td>\n",
       "      <td>male</td>\n",
       "      <td>22.0</td>\n",
       "      <td>1</td>\n",
       "      <td>0</td>\n",
       "      <td>A/5 21171</td>\n",
       "      <td>7.2500</td>\n",
       "      <td>S</td>\n",
       "    </tr>\n",
       "    <tr>\n",
       "      <th>1</th>\n",
       "      <td>2</td>\n",
       "      <td>1</td>\n",
       "      <td>1</td>\n",
       "      <td>Cumings, Mrs. John Bradley (Florence Briggs Th...</td>\n",
       "      <td>female</td>\n",
       "      <td>38.0</td>\n",
       "      <td>1</td>\n",
       "      <td>0</td>\n",
       "      <td>PC 17599</td>\n",
       "      <td>71.2833</td>\n",
       "      <td>C</td>\n",
       "    </tr>\n",
       "    <tr>\n",
       "      <th>2</th>\n",
       "      <td>3</td>\n",
       "      <td>1</td>\n",
       "      <td>3</td>\n",
       "      <td>Heikkinen, Miss. Laina</td>\n",
       "      <td>female</td>\n",
       "      <td>26.0</td>\n",
       "      <td>0</td>\n",
       "      <td>0</td>\n",
       "      <td>STON/O2. 3101282</td>\n",
       "      <td>7.9250</td>\n",
       "      <td>S</td>\n",
       "    </tr>\n",
       "    <tr>\n",
       "      <th>3</th>\n",
       "      <td>4</td>\n",
       "      <td>1</td>\n",
       "      <td>1</td>\n",
       "      <td>Futrelle, Mrs. Jacques Heath (Lily May Peel)</td>\n",
       "      <td>female</td>\n",
       "      <td>35.0</td>\n",
       "      <td>1</td>\n",
       "      <td>0</td>\n",
       "      <td>113803</td>\n",
       "      <td>53.1000</td>\n",
       "      <td>S</td>\n",
       "    </tr>\n",
       "    <tr>\n",
       "      <th>4</th>\n",
       "      <td>5</td>\n",
       "      <td>0</td>\n",
       "      <td>3</td>\n",
       "      <td>Allen, Mr. William Henry</td>\n",
       "      <td>male</td>\n",
       "      <td>35.0</td>\n",
       "      <td>0</td>\n",
       "      <td>0</td>\n",
       "      <td>373450</td>\n",
       "      <td>8.0500</td>\n",
       "      <td>S</td>\n",
       "    </tr>\n",
       "  </tbody>\n",
       "</table>\n",
       "</div>"
      ],
      "text/plain": [
       "   PassengerId  Survived  Pclass  \\\n",
       "0            1         0       3   \n",
       "1            2         1       1   \n",
       "2            3         1       3   \n",
       "3            4         1       1   \n",
       "4            5         0       3   \n",
       "\n",
       "                                                Name     Sex   Age  SibSp  \\\n",
       "0                            Braund, Mr. Owen Harris    male  22.0      1   \n",
       "1  Cumings, Mrs. John Bradley (Florence Briggs Th...  female  38.0      1   \n",
       "2                             Heikkinen, Miss. Laina  female  26.0      0   \n",
       "3       Futrelle, Mrs. Jacques Heath (Lily May Peel)  female  35.0      1   \n",
       "4                           Allen, Mr. William Henry    male  35.0      0   \n",
       "\n",
       "   Parch            Ticket     Fare Embarked  \n",
       "0      0         A/5 21171   7.2500        S  \n",
       "1      0          PC 17599  71.2833        C  \n",
       "2      0  STON/O2. 3101282   7.9250        S  \n",
       "3      0            113803  53.1000        S  \n",
       "4      0            373450   8.0500        S  "
      ]
     },
     "execution_count": 19,
     "metadata": {},
     "output_type": "execute_result"
    }
   ],
   "source": [
    "train.head()"
   ]
  },
  {
   "cell_type": "markdown",
   "id": "fa2f8244",
   "metadata": {
    "papermill": {
     "duration": 0.015428,
     "end_time": "2022-11-24T19:00:35.415077",
     "exception": false,
     "start_time": "2022-11-24T19:00:35.399649",
     "status": "completed"
    },
    "tags": []
   },
   "source": [
    "- We're unlike to the get much value out of PassengerID, Name and Ticket, so will drop those columns."
   ]
  },
  {
   "cell_type": "code",
   "execution_count": 20,
   "id": "986cdb5b",
   "metadata": {
    "execution": {
     "iopub.execute_input": "2022-11-24T19:00:35.448090Z",
     "iopub.status.busy": "2022-11-24T19:00:35.447654Z",
     "iopub.status.idle": "2022-11-24T19:00:35.454476Z",
     "shell.execute_reply": "2022-11-24T19:00:35.453177Z"
    },
    "papermill": {
     "duration": 0.026467,
     "end_time": "2022-11-24T19:00:35.457132",
     "exception": false,
     "start_time": "2022-11-24T19:00:35.430665",
     "status": "completed"
    },
    "tags": []
   },
   "outputs": [],
   "source": [
    "train.drop(columns=['PassengerId','Ticket', 'Name'], inplace=True)"
   ]
  },
  {
   "cell_type": "code",
   "execution_count": 21,
   "id": "81a205df",
   "metadata": {
    "execution": {
     "iopub.execute_input": "2022-11-24T19:00:35.489753Z",
     "iopub.status.busy": "2022-11-24T19:00:35.489282Z",
     "iopub.status.idle": "2022-11-24T19:00:35.504892Z",
     "shell.execute_reply": "2022-11-24T19:00:35.503646Z"
    },
    "papermill": {
     "duration": 0.034938,
     "end_time": "2022-11-24T19:00:35.507384",
     "exception": false,
     "start_time": "2022-11-24T19:00:35.472446",
     "status": "completed"
    },
    "tags": []
   },
   "outputs": [
    {
     "data": {
      "text/html": [
       "<div>\n",
       "<style scoped>\n",
       "    .dataframe tbody tr th:only-of-type {\n",
       "        vertical-align: middle;\n",
       "    }\n",
       "\n",
       "    .dataframe tbody tr th {\n",
       "        vertical-align: top;\n",
       "    }\n",
       "\n",
       "    .dataframe thead th {\n",
       "        text-align: right;\n",
       "    }\n",
       "</style>\n",
       "<table border=\"1\" class=\"dataframe\">\n",
       "  <thead>\n",
       "    <tr style=\"text-align: right;\">\n",
       "      <th></th>\n",
       "      <th>Survived</th>\n",
       "      <th>Pclass</th>\n",
       "      <th>Sex</th>\n",
       "      <th>Age</th>\n",
       "      <th>SibSp</th>\n",
       "      <th>Parch</th>\n",
       "      <th>Fare</th>\n",
       "      <th>Embarked</th>\n",
       "    </tr>\n",
       "  </thead>\n",
       "  <tbody>\n",
       "    <tr>\n",
       "      <th>0</th>\n",
       "      <td>0</td>\n",
       "      <td>3</td>\n",
       "      <td>male</td>\n",
       "      <td>22.0</td>\n",
       "      <td>1</td>\n",
       "      <td>0</td>\n",
       "      <td>7.2500</td>\n",
       "      <td>S</td>\n",
       "    </tr>\n",
       "    <tr>\n",
       "      <th>1</th>\n",
       "      <td>1</td>\n",
       "      <td>1</td>\n",
       "      <td>female</td>\n",
       "      <td>38.0</td>\n",
       "      <td>1</td>\n",
       "      <td>0</td>\n",
       "      <td>71.2833</td>\n",
       "      <td>C</td>\n",
       "    </tr>\n",
       "    <tr>\n",
       "      <th>2</th>\n",
       "      <td>1</td>\n",
       "      <td>3</td>\n",
       "      <td>female</td>\n",
       "      <td>26.0</td>\n",
       "      <td>0</td>\n",
       "      <td>0</td>\n",
       "      <td>7.9250</td>\n",
       "      <td>S</td>\n",
       "    </tr>\n",
       "    <tr>\n",
       "      <th>3</th>\n",
       "      <td>1</td>\n",
       "      <td>1</td>\n",
       "      <td>female</td>\n",
       "      <td>35.0</td>\n",
       "      <td>1</td>\n",
       "      <td>0</td>\n",
       "      <td>53.1000</td>\n",
       "      <td>S</td>\n",
       "    </tr>\n",
       "    <tr>\n",
       "      <th>4</th>\n",
       "      <td>0</td>\n",
       "      <td>3</td>\n",
       "      <td>male</td>\n",
       "      <td>35.0</td>\n",
       "      <td>0</td>\n",
       "      <td>0</td>\n",
       "      <td>8.0500</td>\n",
       "      <td>S</td>\n",
       "    </tr>\n",
       "  </tbody>\n",
       "</table>\n",
       "</div>"
      ],
      "text/plain": [
       "   Survived  Pclass     Sex   Age  SibSp  Parch     Fare Embarked\n",
       "0         0       3    male  22.0      1      0   7.2500        S\n",
       "1         1       1  female  38.0      1      0  71.2833        C\n",
       "2         1       3  female  26.0      0      0   7.9250        S\n",
       "3         1       1  female  35.0      1      0  53.1000        S\n",
       "4         0       3    male  35.0      0      0   8.0500        S"
      ]
     },
     "execution_count": 21,
     "metadata": {},
     "output_type": "execute_result"
    }
   ],
   "source": [
    "train.head()"
   ]
  },
  {
   "cell_type": "code",
   "execution_count": 22,
   "id": "a358a075",
   "metadata": {
    "execution": {
     "iopub.execute_input": "2022-11-24T19:00:35.541477Z",
     "iopub.status.busy": "2022-11-24T19:00:35.540989Z",
     "iopub.status.idle": "2022-11-24T19:00:36.530304Z",
     "shell.execute_reply": "2022-11-24T19:00:36.528696Z"
    },
    "papermill": {
     "duration": 1.010766,
     "end_time": "2022-11-24T19:00:36.533810",
     "exception": false,
     "start_time": "2022-11-24T19:00:35.523044",
     "status": "completed"
    },
    "tags": []
   },
   "outputs": [
    {
     "data": {
      "image/png": "[encoded data removed]",
      "text/plain": [
       "<Figure size 1080x576 with 6 Axes>"
      ]
     },
     "metadata": {
      "needs_background": "light"
     },
     "output_type": "display_data"
    }
   ],
   "source": [
    "plt.subplots(2,3, figsize=(15,8))\n",
    "\n",
    "plt.subplot(2,3,1)\n",
    "sns.countplot(data=train, x='Sex', hue='Survived')\n",
    "plt.title('Survival by Sex')\n",
    "\n",
    "plt.subplot(2,3,2)\n",
    "sns.countplot(data=train, x='Embarked', hue='Survived')\n",
    "plt.title('Survival by Embarcation Point')\n",
    "\n",
    "plt.subplot(2,3,3)\n",
    "sns.countplot(data=train, x='Pclass', hue='Survived')\n",
    "plt.title('Survival by Passenger Class')\n",
    "\n",
    "plt.subplot(2,3,4)\n",
    "sns.boxplot(data=train, y='Age', x='Survived')\n",
    "plt.title('Survival by Age')\n",
    "\n",
    "plt.subplot(2,3,5)\n",
    "sns.boxplot(data=train, y='Fare', x='Survived')\n",
    "plt.title('Survival by Fare Paid')\n",
    "\n",
    "plt.subplot(2,3,6)\n",
    "sns.boxplot(data=train, y=train['SibSp']+train['Parch'], x='Survived')\n",
    "plt.ylabel('Family Size')\n",
    "plt.title('Survival by Family Size')\n",
    "\n",
    "plt.tight_layout()\n",
    "plt.show()"
   ]
  },
  {
   "cell_type": "markdown",
   "id": "8285a292",
   "metadata": {
    "papermill": {
     "duration": 0.016287,
     "end_time": "2022-11-24T19:00:36.567030",
     "exception": false,
     "start_time": "2022-11-24T19:00:36.550743",
     "status": "completed"
    },
    "tags": []
   },
   "source": [
    "- Females had a higher survival rate \n",
    "- Southampton had the most passengers and therefore the most that survived, but the chances of survival were best from Cherbourg perhaps those included higher fare or passengers in class 1 or 2\n",
    "- Younger people had a slightly higher survival rate\n",
    "- Passenger class also was a big determinant of survival with class 1 and 2 improving the survival changes - similarly there is a slight improvement in survival rate for those that paid a bit more for their fare\n",
    "- Larger family sizes on board has a better survival rate\n",
    "\n",
    "**Note:**\n",
    "- Will encode Sex and Embarked as numerical values"
   ]
  },
  {
   "cell_type": "code",
   "execution_count": 23,
   "id": "49c53bd3",
   "metadata": {
    "execution": {
     "iopub.execute_input": "2022-11-24T19:00:36.601976Z",
     "iopub.status.busy": "2022-11-24T19:00:36.601541Z",
     "iopub.status.idle": "2022-11-24T19:00:36.618847Z",
     "shell.execute_reply": "2022-11-24T19:00:36.617896Z"
    },
    "papermill": {
     "duration": 0.037804,
     "end_time": "2022-11-24T19:00:36.621340",
     "exception": false,
     "start_time": "2022-11-24T19:00:36.583536",
     "status": "completed"
    },
    "tags": []
   },
   "outputs": [
    {
     "data": {
      "text/html": [
       "<div>\n",
       "<style scoped>\n",
       "    .dataframe tbody tr th:only-of-type {\n",
       "        vertical-align: middle;\n",
       "    }\n",
       "\n",
       "    .dataframe tbody tr th {\n",
       "        vertical-align: top;\n",
       "    }\n",
       "\n",
       "    .dataframe thead th {\n",
       "        text-align: right;\n",
       "    }\n",
       "</style>\n",
       "<table border=\"1\" class=\"dataframe\">\n",
       "  <thead>\n",
       "    <tr style=\"text-align: right;\">\n",
       "      <th></th>\n",
       "      <th>Survived</th>\n",
       "      <th>Pclass</th>\n",
       "      <th>Sex</th>\n",
       "      <th>Age</th>\n",
       "      <th>SibSp</th>\n",
       "      <th>Parch</th>\n",
       "      <th>Fare</th>\n",
       "      <th>Embarked</th>\n",
       "      <th>Female</th>\n",
       "    </tr>\n",
       "  </thead>\n",
       "  <tbody>\n",
       "    <tr>\n",
       "      <th>0</th>\n",
       "      <td>0</td>\n",
       "      <td>3</td>\n",
       "      <td>male</td>\n",
       "      <td>22.0</td>\n",
       "      <td>1</td>\n",
       "      <td>0</td>\n",
       "      <td>7.2500</td>\n",
       "      <td>S</td>\n",
       "      <td>0</td>\n",
       "    </tr>\n",
       "    <tr>\n",
       "      <th>1</th>\n",
       "      <td>1</td>\n",
       "      <td>1</td>\n",
       "      <td>female</td>\n",
       "      <td>38.0</td>\n",
       "      <td>1</td>\n",
       "      <td>0</td>\n",
       "      <td>71.2833</td>\n",
       "      <td>C</td>\n",
       "      <td>1</td>\n",
       "    </tr>\n",
       "    <tr>\n",
       "      <th>2</th>\n",
       "      <td>1</td>\n",
       "      <td>3</td>\n",
       "      <td>female</td>\n",
       "      <td>26.0</td>\n",
       "      <td>0</td>\n",
       "      <td>0</td>\n",
       "      <td>7.9250</td>\n",
       "      <td>S</td>\n",
       "      <td>1</td>\n",
       "    </tr>\n",
       "    <tr>\n",
       "      <th>3</th>\n",
       "      <td>1</td>\n",
       "      <td>1</td>\n",
       "      <td>female</td>\n",
       "      <td>35.0</td>\n",
       "      <td>1</td>\n",
       "      <td>0</td>\n",
       "      <td>53.1000</td>\n",
       "      <td>S</td>\n",
       "      <td>1</td>\n",
       "    </tr>\n",
       "    <tr>\n",
       "      <th>4</th>\n",
       "      <td>0</td>\n",
       "      <td>3</td>\n",
       "      <td>male</td>\n",
       "      <td>35.0</td>\n",
       "      <td>0</td>\n",
       "      <td>0</td>\n",
       "      <td>8.0500</td>\n",
       "      <td>S</td>\n",
       "      <td>0</td>\n",
       "    </tr>\n",
       "  </tbody>\n",
       "</table>\n",
       "</div>"
      ],
      "text/plain": [
       "   Survived  Pclass     Sex   Age  SibSp  Parch     Fare Embarked  Female\n",
       "0         0       3    male  22.0      1      0   7.2500        S       0\n",
       "1         1       1  female  38.0      1      0  71.2833        C       1\n",
       "2         1       3  female  26.0      0      0   7.9250        S       1\n",
       "3         1       1  female  35.0      1      0  53.1000        S       1\n",
       "4         0       3    male  35.0      0      0   8.0500        S       0"
      ]
     },
     "execution_count": 23,
     "metadata": {},
     "output_type": "execute_result"
    }
   ],
   "source": [
    "train['Female'] = [1 if (x == 'female') else 0 for x in train['Sex']]\n",
    "train.head()"
   ]
  },
  {
   "cell_type": "code",
   "execution_count": 24,
   "id": "cfbe4bf4",
   "metadata": {
    "execution": {
     "iopub.execute_input": "2022-11-24T19:00:36.657475Z",
     "iopub.status.busy": "2022-11-24T19:00:36.656369Z",
     "iopub.status.idle": "2022-11-24T19:00:36.663955Z",
     "shell.execute_reply": "2022-11-24T19:00:36.662640Z"
    },
    "papermill": {
     "duration": 0.028405,
     "end_time": "2022-11-24T19:00:36.666880",
     "exception": false,
     "start_time": "2022-11-24T19:00:36.638475",
     "status": "completed"
    },
    "tags": []
   },
   "outputs": [],
   "source": [
    "train.drop(columns=['Sex'], inplace = True)"
   ]
  },
  {
   "cell_type": "code",
   "execution_count": 25,
   "id": "a0620aa2",
   "metadata": {
    "execution": {
     "iopub.execute_input": "2022-11-24T19:00:36.702574Z",
     "iopub.status.busy": "2022-11-24T19:00:36.701341Z",
     "iopub.status.idle": "2022-11-24T19:00:36.723055Z",
     "shell.execute_reply": "2022-11-24T19:00:36.721663Z"
    },
    "papermill": {
     "duration": 0.042584,
     "end_time": "2022-11-24T19:00:36.725990",
     "exception": false,
     "start_time": "2022-11-24T19:00:36.683406",
     "status": "completed"
    },
    "tags": []
   },
   "outputs": [
    {
     "data": {
      "text/html": [
       "<div>\n",
       "<style scoped>\n",
       "    .dataframe tbody tr th:only-of-type {\n",
       "        vertical-align: middle;\n",
       "    }\n",
       "\n",
       "    .dataframe tbody tr th {\n",
       "        vertical-align: top;\n",
       "    }\n",
       "\n",
       "    .dataframe thead th {\n",
       "        text-align: right;\n",
       "    }\n",
       "</style>\n",
       "<table border=\"1\" class=\"dataframe\">\n",
       "  <thead>\n",
       "    <tr style=\"text-align: right;\">\n",
       "      <th></th>\n",
       "      <th>Survived</th>\n",
       "      <th>Pclass</th>\n",
       "      <th>Age</th>\n",
       "      <th>SibSp</th>\n",
       "      <th>Parch</th>\n",
       "      <th>Fare</th>\n",
       "      <th>Embarked</th>\n",
       "      <th>Female</th>\n",
       "      <th>Embarked_S</th>\n",
       "      <th>Embarked_C</th>\n",
       "      <th>Embarked_Q</th>\n",
       "    </tr>\n",
       "  </thead>\n",
       "  <tbody>\n",
       "    <tr>\n",
       "      <th>0</th>\n",
       "      <td>0</td>\n",
       "      <td>3</td>\n",
       "      <td>22.0</td>\n",
       "      <td>1</td>\n",
       "      <td>0</td>\n",
       "      <td>7.2500</td>\n",
       "      <td>S</td>\n",
       "      <td>0</td>\n",
       "      <td>1</td>\n",
       "      <td>0</td>\n",
       "      <td>0</td>\n",
       "    </tr>\n",
       "    <tr>\n",
       "      <th>1</th>\n",
       "      <td>1</td>\n",
       "      <td>1</td>\n",
       "      <td>38.0</td>\n",
       "      <td>1</td>\n",
       "      <td>0</td>\n",
       "      <td>71.2833</td>\n",
       "      <td>C</td>\n",
       "      <td>1</td>\n",
       "      <td>0</td>\n",
       "      <td>1</td>\n",
       "      <td>0</td>\n",
       "    </tr>\n",
       "    <tr>\n",
       "      <th>2</th>\n",
       "      <td>1</td>\n",
       "      <td>3</td>\n",
       "      <td>26.0</td>\n",
       "      <td>0</td>\n",
       "      <td>0</td>\n",
       "      <td>7.9250</td>\n",
       "      <td>S</td>\n",
       "      <td>1</td>\n",
       "      <td>1</td>\n",
       "      <td>0</td>\n",
       "      <td>0</td>\n",
       "    </tr>\n",
       "    <tr>\n",
       "      <th>3</th>\n",
       "      <td>1</td>\n",
       "      <td>1</td>\n",
       "      <td>35.0</td>\n",
       "      <td>1</td>\n",
       "      <td>0</td>\n",
       "      <td>53.1000</td>\n",
       "      <td>S</td>\n",
       "      <td>1</td>\n",
       "      <td>1</td>\n",
       "      <td>0</td>\n",
       "      <td>0</td>\n",
       "    </tr>\n",
       "    <tr>\n",
       "      <th>4</th>\n",
       "      <td>0</td>\n",
       "      <td>3</td>\n",
       "      <td>35.0</td>\n",
       "      <td>0</td>\n",
       "      <td>0</td>\n",
       "      <td>8.0500</td>\n",
       "      <td>S</td>\n",
       "      <td>0</td>\n",
       "      <td>1</td>\n",
       "      <td>0</td>\n",
       "      <td>0</td>\n",
       "    </tr>\n",
       "  </tbody>\n",
       "</table>\n",
       "</div>"
      ],
      "text/plain": [
       "   Survived  Pclass   Age  SibSp  Parch     Fare Embarked  Female  Embarked_S  \\\n",
       "0         0       3  22.0      1      0   7.2500        S       0           1   \n",
       "1         1       1  38.0      1      0  71.2833        C       1           0   \n",
       "2         1       3  26.0      0      0   7.9250        S       1           1   \n",
       "3         1       1  35.0      1      0  53.1000        S       1           1   \n",
       "4         0       3  35.0      0      0   8.0500        S       0           1   \n",
       "\n",
       "   Embarked_C  Embarked_Q  \n",
       "0           0           0  \n",
       "1           1           0  \n",
       "2           0           0  \n",
       "3           0           0  \n",
       "4           0           0  "
      ]
     },
     "execution_count": 25,
     "metadata": {},
     "output_type": "execute_result"
    }
   ],
   "source": [
    "train['Embarked_S'] = [1 if (x == 'S') else 0 for x in train['Embarked']]\n",
    "train['Embarked_C'] = [1 if (x == 'C') else 0 for x in train['Embarked']]\n",
    "train['Embarked_Q'] = [1 if (x == 'Q') else 0 for x in train['Embarked']]\n",
    "train.head()"
   ]
  },
  {
   "cell_type": "code",
   "execution_count": 26,
   "id": "1ac0e46a",
   "metadata": {
    "execution": {
     "iopub.execute_input": "2022-11-24T19:00:36.761994Z",
     "iopub.status.busy": "2022-11-24T19:00:36.761527Z",
     "iopub.status.idle": "2022-11-24T19:00:36.769671Z",
     "shell.execute_reply": "2022-11-24T19:00:36.768244Z"
    },
    "papermill": {
     "duration": 0.029364,
     "end_time": "2022-11-24T19:00:36.772571",
     "exception": false,
     "start_time": "2022-11-24T19:00:36.743207",
     "status": "completed"
    },
    "tags": []
   },
   "outputs": [],
   "source": [
    "train.drop(columns=['Embarked'], inplace=True)"
   ]
  },
  {
   "cell_type": "code",
   "execution_count": 27,
   "id": "d79d316c",
   "metadata": {
    "execution": {
     "iopub.execute_input": "2022-11-24T19:00:36.810301Z",
     "iopub.status.busy": "2022-11-24T19:00:36.809476Z",
     "iopub.status.idle": "2022-11-24T19:00:36.817075Z",
     "shell.execute_reply": "2022-11-24T19:00:36.815687Z"
    },
    "papermill": {
     "duration": 0.030268,
     "end_time": "2022-11-24T19:00:36.819725",
     "exception": false,
     "start_time": "2022-11-24T19:00:36.789457",
     "status": "completed"
    },
    "tags": []
   },
   "outputs": [],
   "source": [
    "train['Family Size'] = train['SibSp']+train['Parch']"
   ]
  },
  {
   "cell_type": "markdown",
   "id": "ebce704f",
   "metadata": {
    "papermill": {
     "duration": 0.016406,
     "end_time": "2022-11-24T19:00:36.852692",
     "exception": false,
     "start_time": "2022-11-24T19:00:36.836286",
     "status": "completed"
    },
    "tags": []
   },
   "source": [
    "# Relationship between survival and features"
   ]
  },
  {
   "cell_type": "code",
   "execution_count": 28,
   "id": "8cad9a08",
   "metadata": {
    "execution": {
     "iopub.execute_input": "2022-11-24T19:00:36.888297Z",
     "iopub.status.busy": "2022-11-24T19:00:36.887592Z",
     "iopub.status.idle": "2022-11-24T19:00:37.728252Z",
     "shell.execute_reply": "2022-11-24T19:00:37.726528Z"
    },
    "papermill": {
     "duration": 0.862276,
     "end_time": "2022-11-24T19:00:37.731598",
     "exception": false,
     "start_time": "2022-11-24T19:00:36.869322",
     "status": "completed"
    },
    "tags": []
   },
   "outputs": [],
   "source": [
    "import statsmodels.api as sm\n",
    "from scipy import stats\n"
   ]
  },
  {
   "cell_type": "code",
   "execution_count": 29,
   "id": "b9384091",
   "metadata": {
    "execution": {
     "iopub.execute_input": "2022-11-24T19:00:37.767376Z",
     "iopub.status.busy": "2022-11-24T19:00:37.766664Z",
     "iopub.status.idle": "2022-11-24T19:00:37.854142Z",
     "shell.execute_reply": "2022-11-24T19:00:37.852854Z"
    },
    "papermill": {
     "duration": 0.10837,
     "end_time": "2022-11-24T19:00:37.856739",
     "exception": false,
     "start_time": "2022-11-24T19:00:37.748369",
     "status": "completed"
    },
    "tags": []
   },
   "outputs": [
    {
     "data": {
      "text/html": [
       "<style type=\"text/css\">\n",
       "#T_a925d_row0_col0, #T_a925d_row9_col1 {\n",
       "  background-color: #7f2704;\n",
       "  color: #f1f1f1;\n",
       "}\n",
       "#T_a925d_row0_col1, #T_a925d_row1_col0, #T_a925d_row1_col1, #T_a925d_row5_col1, #T_a925d_row6_col1, #T_a925d_row7_col1, #T_a925d_row8_col1 {\n",
       "  background-color: #fff5eb;\n",
       "  color: #000000;\n",
       "}\n",
       "#T_a925d_row2_col0 {\n",
       "  background-color: #fdd9b4;\n",
       "  color: #000000;\n",
       "}\n",
       "#T_a925d_row2_col1 {\n",
       "  background-color: #fff0e2;\n",
       "  color: #000000;\n",
       "}\n",
       "#T_a925d_row3_col0 {\n",
       "  background-color: #fdd5ab;\n",
       "  color: #000000;\n",
       "}\n",
       "#T_a925d_row3_col1 {\n",
       "  background-color: #fdbe84;\n",
       "  color: #000000;\n",
       "}\n",
       "#T_a925d_row4_col0 {\n",
       "  background-color: #fdbf86;\n",
       "  color: #000000;\n",
       "}\n",
       "#T_a925d_row4_col1 {\n",
       "  background-color: #fff3e7;\n",
       "  color: #000000;\n",
       "}\n",
       "#T_a925d_row5_col0 {\n",
       "  background-color: #fd9c51;\n",
       "  color: #000000;\n",
       "}\n",
       "#T_a925d_row6_col0 {\n",
       "  background-color: #eb600e;\n",
       "  color: #f1f1f1;\n",
       "}\n",
       "#T_a925d_row7_col0 {\n",
       "  background-color: #fee3c8;\n",
       "  color: #000000;\n",
       "}\n",
       "#T_a925d_row8_col0 {\n",
       "  background-color: #fdae6a;\n",
       "  color: #000000;\n",
       "}\n",
       "#T_a925d_row9_col0 {\n",
       "  background-color: #fdcfa0;\n",
       "  color: #000000;\n",
       "}\n",
       "#T_a925d_row10_col0 {\n",
       "  background-color: #fdcd9c;\n",
       "  color: #000000;\n",
       "}\n",
       "#T_a925d_row10_col1 {\n",
       "  background-color: #e75b0b;\n",
       "  color: #f1f1f1;\n",
       "}\n",
       "</style>\n",
       "<table id=\"T_a925d_\">\n",
       "  <thead>\n",
       "    <tr>\n",
       "      <th class=\"blank level0\" >&nbsp;</th>\n",
       "      <th class=\"col_heading level0 col0\" >Correlation</th>\n",
       "      <th class=\"col_heading level0 col1\" >P_value</th>\n",
       "    </tr>\n",
       "  </thead>\n",
       "  <tbody>\n",
       "    <tr>\n",
       "      <th id=\"T_a925d_level0_row0\" class=\"row_heading level0 row0\" >Survived</th>\n",
       "      <td id=\"T_a925d_row0_col0\" class=\"data row0 col0\" >1.000000</td>\n",
       "      <td id=\"T_a925d_row0_col1\" class=\"data row0 col1\" >0.000000</td>\n",
       "    </tr>\n",
       "    <tr>\n",
       "      <th id=\"T_a925d_level0_row1\" class=\"row_heading level0 row1\" >Pclass</th>\n",
       "      <td id=\"T_a925d_row1_col0\" class=\"data row1 col0\" >-0.338481</td>\n",
       "      <td id=\"T_a925d_row1_col1\" class=\"data row1 col1\" >0.000000</td>\n",
       "    </tr>\n",
       "    <tr>\n",
       "      <th id=\"T_a925d_level0_row2\" class=\"row_heading level0 row2\" >Age</th>\n",
       "      <td id=\"T_a925d_row2_col0\" class=\"data row2 col0\" >-0.069809</td>\n",
       "      <td id=\"T_a925d_row2_col1\" class=\"data row2 col1\" >0.037217</td>\n",
       "    </tr>\n",
       "    <tr>\n",
       "      <th id=\"T_a925d_level0_row3\" class=\"row_heading level0 row3\" >SibSp</th>\n",
       "      <td id=\"T_a925d_row3_col0\" class=\"data row3 col0\" >-0.035322</td>\n",
       "      <td id=\"T_a925d_row3_col1\" class=\"data row3 col1\" >0.292244</td>\n",
       "    </tr>\n",
       "    <tr>\n",
       "      <th id=\"T_a925d_level0_row4\" class=\"row_heading level0 row4\" >Parch</th>\n",
       "      <td id=\"T_a925d_row4_col0\" class=\"data row4 col0\" >0.081629</td>\n",
       "      <td id=\"T_a925d_row4_col1\" class=\"data row4 col1\" >0.014799</td>\n",
       "    </tr>\n",
       "    <tr>\n",
       "      <th id=\"T_a925d_level0_row5\" class=\"row_heading level0 row5\" >Fare</th>\n",
       "      <td id=\"T_a925d_row5_col0\" class=\"data row5 col0\" >0.257307</td>\n",
       "      <td id=\"T_a925d_row5_col1\" class=\"data row5 col1\" >0.000000</td>\n",
       "    </tr>\n",
       "    <tr>\n",
       "      <th id=\"T_a925d_level0_row6\" class=\"row_heading level0 row6\" >Female</th>\n",
       "      <td id=\"T_a925d_row6_col0\" class=\"data row6 col0\" >0.543351</td>\n",
       "      <td id=\"T_a925d_row6_col1\" class=\"data row6 col1\" >0.000000</td>\n",
       "    </tr>\n",
       "    <tr>\n",
       "      <th id=\"T_a925d_level0_row7\" class=\"row_heading level0 row7\" >Embarked_S</th>\n",
       "      <td id=\"T_a925d_row7_col0\" class=\"data row7 col0\" >-0.149683</td>\n",
       "      <td id=\"T_a925d_row7_col1\" class=\"data row7 col1\" >0.000007</td>\n",
       "    </tr>\n",
       "    <tr>\n",
       "      <th id=\"T_a925d_level0_row8\" class=\"row_heading level0 row8\" >Embarked_C</th>\n",
       "      <td id=\"T_a925d_row8_col0\" class=\"data row8 col0\" >0.168240</td>\n",
       "      <td id=\"T_a925d_row8_col1\" class=\"data row8 col1\" >0.000000</td>\n",
       "    </tr>\n",
       "    <tr>\n",
       "      <th id=\"T_a925d_level0_row9\" class=\"row_heading level0 row9\" >Embarked_Q</th>\n",
       "      <td id=\"T_a925d_row9_col0\" class=\"data row9 col0\" >0.003650</td>\n",
       "      <td id=\"T_a925d_row9_col1\" class=\"data row9 col1\" >0.913353</td>\n",
       "    </tr>\n",
       "    <tr>\n",
       "      <th id=\"T_a925d_level0_row10\" class=\"row_heading level0 row10\" >Family Size</th>\n",
       "      <td id=\"T_a925d_row10_col0\" class=\"data row10 col0\" >0.016639</td>\n",
       "      <td id=\"T_a925d_row10_col1\" class=\"data row10 col1\" >0.619891</td>\n",
       "    </tr>\n",
       "  </tbody>\n",
       "</table>\n"
      ],
      "text/plain": [
       "<pandas.io.formats.style.Styler at 0x7f598e1d2bd0>"
      ]
     },
     "execution_count": 29,
     "metadata": {},
     "output_type": "execute_result"
    }
   ],
   "source": [
    "data = []\n",
    "\n",
    "y = train['Survived']\n",
    "\n",
    "for column in train.corr().columns:\n",
    "    data.append(stats.pearsonr(y, train[column]))\n",
    "\n",
    "corr = pd.DataFrame(data, index=train.corr().columns, columns=['Correlation', 'P_value'])\n",
    "\n",
    "corr.style.background_gradient(cmap='Oranges')"
   ]
  },
  {
   "cell_type": "markdown",
   "id": "f7ab8c14",
   "metadata": {
    "papermill": {
     "duration": 0.016439,
     "end_time": "2022-11-24T19:00:37.890084",
     "exception": false,
     "start_time": "2022-11-24T19:00:37.873645",
     "status": "completed"
    },
    "tags": []
   },
   "source": [
    "- Only Siblings and Embarked at Queenstown seem to have statistically insignificant correlations with survival.\n",
    "- Female and Fare having the strongest correlations.\n",
    "- Interestingly however Class and Fare show different correlation coefficients, whereas I was expecting them to show some collinearity assuming that fare would be correlated with Class."
   ]
  },
  {
   "cell_type": "code",
   "execution_count": 30,
   "id": "ce66c2ba",
   "metadata": {
    "execution": {
     "iopub.execute_input": "2022-11-24T19:00:37.927307Z",
     "iopub.status.busy": "2022-11-24T19:00:37.926461Z",
     "iopub.status.idle": "2022-11-24T19:00:37.934702Z",
     "shell.execute_reply": "2022-11-24T19:00:37.933727Z"
    },
    "papermill": {
     "duration": 0.03046,
     "end_time": "2022-11-24T19:00:37.937412",
     "exception": false,
     "start_time": "2022-11-24T19:00:37.906952",
     "status": "completed"
    },
    "tags": []
   },
   "outputs": [
    {
     "data": {
      "text/plain": [
       "(-0.5494996199439078, 1.967386173420501e-71)"
      ]
     },
     "execution_count": 30,
     "metadata": {},
     "output_type": "execute_result"
    }
   ],
   "source": [
    "stats.pearsonr(train['Pclass'],train['Fare'])"
   ]
  },
  {
   "cell_type": "markdown",
   "id": "a3f892f0",
   "metadata": {
    "papermill": {
     "duration": 0.016493,
     "end_time": "2022-11-24T19:00:37.970883",
     "exception": false,
     "start_time": "2022-11-24T19:00:37.954390",
     "status": "completed"
    },
    "tags": []
   },
   "source": [
    "Due to the ordinal nature of the ```Pclass``` column, where 1 is the highest value and 3 is the lowest, when running the correlation between class and fare we see that as one increases the other is likely to decrease. For example if Fare goes up, then Class will go down towards 1. "
   ]
  },
  {
   "cell_type": "code",
   "execution_count": 31,
   "id": "66a2e5b4",
   "metadata": {
    "execution": {
     "iopub.execute_input": "2022-11-24T19:00:38.006543Z",
     "iopub.status.busy": "2022-11-24T19:00:38.006079Z",
     "iopub.status.idle": "2022-11-24T19:01:01.743571Z",
     "shell.execute_reply": "2022-11-24T19:01:01.741850Z"
    },
    "papermill": {
     "duration": 23.762826,
     "end_time": "2022-11-24T19:01:01.750537",
     "exception": false,
     "start_time": "2022-11-24T19:00:37.987711",
     "status": "completed"
    },
    "tags": []
   },
   "outputs": [
    {
     "data": {
      "text/plain": [
       "<Figure size 432x288 with 0 Axes>"
      ]
     },
     "metadata": {},
     "output_type": "display_data"
    },
    {
     "data": {
      "image/png": "[encoded data removed]",
      "text/plain": [
       "<Figure size 1980x1980 with 132 Axes>"
      ]
     },
     "metadata": {
      "needs_background": "light"
     },
     "output_type": "display_data"
    }
   ],
   "source": [
    "plt.figure()\n",
    "sns.pairplot(train)\n",
    "plt.show()"
   ]
  },
  {
   "cell_type": "markdown",
   "id": "b5167bc4",
   "metadata": {
    "papermill": {
     "duration": 0.021684,
     "end_time": "2022-11-24T19:01:01.794466",
     "exception": false,
     "start_time": "2022-11-24T19:01:01.772782",
     "status": "completed"
    },
    "tags": []
   },
   "source": [
    "# Simple Logistic Regression Model"
   ]
  },
  {
   "cell_type": "code",
   "execution_count": 32,
   "id": "e702acde",
   "metadata": {
    "execution": {
     "iopub.execute_input": "2022-11-24T19:01:01.841333Z",
     "iopub.status.busy": "2022-11-24T19:01:01.840826Z",
     "iopub.status.idle": "2022-11-24T19:01:01.857571Z",
     "shell.execute_reply": "2022-11-24T19:01:01.856260Z"
    },
    "papermill": {
     "duration": 0.043367,
     "end_time": "2022-11-24T19:01:01.860237",
     "exception": false,
     "start_time": "2022-11-24T19:01:01.816870",
     "status": "completed"
    },
    "tags": []
   },
   "outputs": [
    {
     "data": {
      "text/html": [
       "<div>\n",
       "<style scoped>\n",
       "    .dataframe tbody tr th:only-of-type {\n",
       "        vertical-align: middle;\n",
       "    }\n",
       "\n",
       "    .dataframe tbody tr th {\n",
       "        vertical-align: top;\n",
       "    }\n",
       "\n",
       "    .dataframe thead th {\n",
       "        text-align: right;\n",
       "    }\n",
       "</style>\n",
       "<table border=\"1\" class=\"dataframe\">\n",
       "  <thead>\n",
       "    <tr style=\"text-align: right;\">\n",
       "      <th></th>\n",
       "      <th>Survived</th>\n",
       "      <th>Pclass</th>\n",
       "      <th>Age</th>\n",
       "      <th>SibSp</th>\n",
       "      <th>Parch</th>\n",
       "      <th>Fare</th>\n",
       "      <th>Female</th>\n",
       "      <th>Embarked_S</th>\n",
       "      <th>Embarked_C</th>\n",
       "      <th>Embarked_Q</th>\n",
       "      <th>Family Size</th>\n",
       "    </tr>\n",
       "  </thead>\n",
       "  <tbody>\n",
       "    <tr>\n",
       "      <th>0</th>\n",
       "      <td>0</td>\n",
       "      <td>3</td>\n",
       "      <td>22.0</td>\n",
       "      <td>1</td>\n",
       "      <td>0</td>\n",
       "      <td>7.2500</td>\n",
       "      <td>0</td>\n",
       "      <td>1</td>\n",
       "      <td>0</td>\n",
       "      <td>0</td>\n",
       "      <td>1</td>\n",
       "    </tr>\n",
       "    <tr>\n",
       "      <th>1</th>\n",
       "      <td>1</td>\n",
       "      <td>1</td>\n",
       "      <td>38.0</td>\n",
       "      <td>1</td>\n",
       "      <td>0</td>\n",
       "      <td>71.2833</td>\n",
       "      <td>1</td>\n",
       "      <td>0</td>\n",
       "      <td>1</td>\n",
       "      <td>0</td>\n",
       "      <td>1</td>\n",
       "    </tr>\n",
       "    <tr>\n",
       "      <th>2</th>\n",
       "      <td>1</td>\n",
       "      <td>3</td>\n",
       "      <td>26.0</td>\n",
       "      <td>0</td>\n",
       "      <td>0</td>\n",
       "      <td>7.9250</td>\n",
       "      <td>1</td>\n",
       "      <td>1</td>\n",
       "      <td>0</td>\n",
       "      <td>0</td>\n",
       "      <td>0</td>\n",
       "    </tr>\n",
       "    <tr>\n",
       "      <th>3</th>\n",
       "      <td>1</td>\n",
       "      <td>1</td>\n",
       "      <td>35.0</td>\n",
       "      <td>1</td>\n",
       "      <td>0</td>\n",
       "      <td>53.1000</td>\n",
       "      <td>1</td>\n",
       "      <td>1</td>\n",
       "      <td>0</td>\n",
       "      <td>0</td>\n",
       "      <td>1</td>\n",
       "    </tr>\n",
       "    <tr>\n",
       "      <th>4</th>\n",
       "      <td>0</td>\n",
       "      <td>3</td>\n",
       "      <td>35.0</td>\n",
       "      <td>0</td>\n",
       "      <td>0</td>\n",
       "      <td>8.0500</td>\n",
       "      <td>0</td>\n",
       "      <td>1</td>\n",
       "      <td>0</td>\n",
       "      <td>0</td>\n",
       "      <td>0</td>\n",
       "    </tr>\n",
       "  </tbody>\n",
       "</table>\n",
       "</div>"
      ],
      "text/plain": [
       "   Survived  Pclass   Age  SibSp  Parch     Fare  Female  Embarked_S  \\\n",
       "0         0       3  22.0      1      0   7.2500       0           1   \n",
       "1         1       1  38.0      1      0  71.2833       1           0   \n",
       "2         1       3  26.0      0      0   7.9250       1           1   \n",
       "3         1       1  35.0      1      0  53.1000       1           1   \n",
       "4         0       3  35.0      0      0   8.0500       0           1   \n",
       "\n",
       "   Embarked_C  Embarked_Q  Family Size  \n",
       "0           0           0            1  \n",
       "1           1           0            1  \n",
       "2           0           0            0  \n",
       "3           0           0            1  \n",
       "4           0           0            0  "
      ]
     },
     "execution_count": 32,
     "metadata": {},
     "output_type": "execute_result"
    }
   ],
   "source": [
    "train.head()"
   ]
  },
  {
   "cell_type": "code",
   "execution_count": 33,
   "id": "f4812d79",
   "metadata": {
    "execution": {
     "iopub.execute_input": "2022-11-24T19:01:01.906915Z",
     "iopub.status.busy": "2022-11-24T19:01:01.906055Z",
     "iopub.status.idle": "2022-11-24T19:01:02.039491Z",
     "shell.execute_reply": "2022-11-24T19:01:02.037991Z"
    },
    "papermill": {
     "duration": 0.160398,
     "end_time": "2022-11-24T19:01:02.042962",
     "exception": false,
     "start_time": "2022-11-24T19:01:01.882564",
     "status": "completed"
    },
    "tags": []
   },
   "outputs": [
    {
     "name": "stdout",
     "output_type": "stream",
     "text": [
      "Optimization terminated successfully.\n",
      "         Current function value: 0.440392\n",
      "         Iterations 96\n"
     ]
    },
    {
     "data": {
      "text/html": [
       "<table class=\"simpletable\">\n",
       "<caption>Logit Regression Results</caption>\n",
       "<tr>\n",
       "  <th>Dep. Variable:</th>       <td>Survived</td>     <th>  No. Observations:  </th>  <td>   891</td>  \n",
       "</tr>\n",
       "<tr>\n",
       "  <th>Model:</th>                 <td>Logit</td>      <th>  Df Residuals:      </th>  <td>   882</td>  \n",
       "</tr>\n",
       "<tr>\n",
       "  <th>Method:</th>                 <td>MLE</td>       <th>  Df Model:          </th>  <td>     8</td>  \n",
       "</tr>\n",
       "<tr>\n",
       "  <th>Date:</th>            <td>Thu, 24 Nov 2022</td> <th>  Pseudo R-squ.:     </th>  <td>0.3387</td>  \n",
       "</tr>\n",
       "<tr>\n",
       "  <th>Time:</th>                <td>19:01:01</td>     <th>  Log-Likelihood:    </th> <td> -392.39</td> \n",
       "</tr>\n",
       "<tr>\n",
       "  <th>converged:</th>             <td>True</td>       <th>  LL-Null:           </th> <td> -593.33</td> \n",
       "</tr>\n",
       "<tr>\n",
       "  <th>Covariance Type:</th>     <td>nonrobust</td>    <th>  LLR p-value:       </th> <td>7.435e-82</td>\n",
       "</tr>\n",
       "</table>\n",
       "<table class=\"simpletable\">\n",
       "<tr>\n",
       "       <td></td>          <th>coef</th>     <th>std err</th>      <th>z</th>      <th>P>|z|</th>  <th>[0.025</th>    <th>0.975]</th>  \n",
       "</tr>\n",
       "<tr>\n",
       "  <th>const</th>       <td>    1.8079</td> <td> 3.23e+06</td> <td> 5.59e-07</td> <td> 1.000</td> <td>-6.34e+06</td> <td> 6.34e+06</td>\n",
       "</tr>\n",
       "<tr>\n",
       "  <th>Pclass</th>      <td>   -1.1022</td> <td>    0.144</td> <td>   -7.675</td> <td> 0.000</td> <td>   -1.384</td> <td>   -0.821</td>\n",
       "</tr>\n",
       "<tr>\n",
       "  <th>Age</th>         <td>   -0.0397</td> <td>    0.008</td> <td>   -5.061</td> <td> 0.000</td> <td>   -0.055</td> <td>   -0.024</td>\n",
       "</tr>\n",
       "<tr>\n",
       "  <th>SibSp</th>       <td>   -0.1864</td> <td>  4.5e+06</td> <td>-4.15e-08</td> <td> 1.000</td> <td>-8.81e+06</td> <td> 8.81e+06</td>\n",
       "</tr>\n",
       "<tr>\n",
       "  <th>Parch</th>       <td>    0.0459</td> <td>  4.5e+06</td> <td> 1.02e-08</td> <td> 1.000</td> <td>-8.81e+06</td> <td> 8.81e+06</td>\n",
       "</tr>\n",
       "<tr>\n",
       "  <th>Fare</th>        <td>    0.0020</td> <td>    0.002</td> <td>    0.823</td> <td> 0.410</td> <td>   -0.003</td> <td>    0.007</td>\n",
       "</tr>\n",
       "<tr>\n",
       "  <th>Female</th>      <td>    2.7272</td> <td>    0.201</td> <td>   13.597</td> <td> 0.000</td> <td>    2.334</td> <td>    3.120</td>\n",
       "</tr>\n",
       "<tr>\n",
       "  <th>Embarked_S</th>  <td>    0.3376</td> <td> 3.23e+06</td> <td> 1.04e-07</td> <td> 1.000</td> <td>-6.34e+06</td> <td> 6.34e+06</td>\n",
       "</tr>\n",
       "<tr>\n",
       "  <th>Embarked_C</th>  <td>    0.7515</td> <td> 3.23e+06</td> <td> 2.32e-07</td> <td> 1.000</td> <td>-6.34e+06</td> <td> 6.34e+06</td>\n",
       "</tr>\n",
       "<tr>\n",
       "  <th>Embarked_Q</th>  <td>    0.7188</td> <td> 3.23e+06</td> <td> 2.22e-07</td> <td> 1.000</td> <td>-6.34e+06</td> <td> 6.34e+06</td>\n",
       "</tr>\n",
       "<tr>\n",
       "  <th>Family Size</th> <td>   -0.1405</td> <td>  4.5e+06</td> <td>-3.12e-08</td> <td> 1.000</td> <td>-8.81e+06</td> <td> 8.81e+06</td>\n",
       "</tr>\n",
       "</table>"
      ],
      "text/plain": [
       "<class 'statsmodels.iolib.summary.Summary'>\n",
       "\"\"\"\n",
       "                           Logit Regression Results                           \n",
       "==============================================================================\n",
       "Dep. Variable:               Survived   No. Observations:                  891\n",
       "Model:                          Logit   Df Residuals:                      882\n",
       "Method:                           MLE   Df Model:                            8\n",
       "Date:                Thu, 24 Nov 2022   Pseudo R-squ.:                  0.3387\n",
       "Time:                        19:01:01   Log-Likelihood:                -392.39\n",
       "converged:                       True   LL-Null:                       -593.33\n",
       "Covariance Type:            nonrobust   LLR p-value:                 7.435e-82\n",
       "===============================================================================\n",
       "                  coef    std err          z      P>|z|      [0.025      0.975]\n",
       "-------------------------------------------------------------------------------\n",
       "const           1.8079   3.23e+06   5.59e-07      1.000   -6.34e+06    6.34e+06\n",
       "Pclass         -1.1022      0.144     -7.675      0.000      -1.384      -0.821\n",
       "Age            -0.0397      0.008     -5.061      0.000      -0.055      -0.024\n",
       "SibSp          -0.1864    4.5e+06  -4.15e-08      1.000   -8.81e+06    8.81e+06\n",
       "Parch           0.0459    4.5e+06   1.02e-08      1.000   -8.81e+06    8.81e+06\n",
       "Fare            0.0020      0.002      0.823      0.410      -0.003       0.007\n",
       "Female          2.7272      0.201     13.597      0.000       2.334       3.120\n",
       "Embarked_S      0.3376   3.23e+06   1.04e-07      1.000   -6.34e+06    6.34e+06\n",
       "Embarked_C      0.7515   3.23e+06   2.32e-07      1.000   -6.34e+06    6.34e+06\n",
       "Embarked_Q      0.7188   3.23e+06   2.22e-07      1.000   -6.34e+06    6.34e+06\n",
       "Family Size    -0.1405    4.5e+06  -3.12e-08      1.000   -8.81e+06    8.81e+06\n",
       "===============================================================================\n",
       "\"\"\""
      ]
     },
     "execution_count": 33,
     "metadata": {},
     "output_type": "execute_result"
    }
   ],
   "source": [
    "X = train.drop(columns=['Survived'])\n",
    "X_const = sm.add_constant(X)\n",
    "\n",
    "model = sm.Logit(y, X_const)\n",
    "\n",
    "model_result = model.fit(maxiter=500)\n",
    "model_result.summary()"
   ]
  },
  {
   "cell_type": "code",
   "execution_count": 34,
   "id": "81d8ccd3",
   "metadata": {
    "execution": {
     "iopub.execute_input": "2022-11-24T19:01:02.119363Z",
     "iopub.status.busy": "2022-11-24T19:01:02.118840Z",
     "iopub.status.idle": "2022-11-24T19:01:02.129516Z",
     "shell.execute_reply": "2022-11-24T19:01:02.128089Z"
    },
    "papermill": {
     "duration": 0.055094,
     "end_time": "2022-11-24T19:01:02.135051",
     "exception": false,
     "start_time": "2022-11-24T19:01:02.079957",
     "status": "completed"
    },
    "tags": []
   },
   "outputs": [
    {
     "name": "stdout",
     "output_type": "stream",
     "text": [
      "Our model accuracy is 80.10000000000001%\n"
     ]
    }
   ],
   "source": [
    "predictions_prob = model_result.predict(X_const)\n",
    "predictions = np.where(predictions_prob >= 0.5, 1, 0)\n",
    "accuracy = (predictions == y).mean()\n",
    "print(f\"Our model accuracy is {accuracy.round(3)*100}%\")"
   ]
  },
  {
   "cell_type": "markdown",
   "id": "ced34414",
   "metadata": {
    "papermill": {
     "duration": 0.037507,
     "end_time": "2022-11-24T19:01:02.210060",
     "exception": false,
     "start_time": "2022-11-24T19:01:02.172553",
     "status": "completed"
    },
    "tags": []
   },
   "source": [
    "- Based on this we could remove the each of the variables that have P values greater than 0.05. However it may be better to look at fitting a few more advanced models to see how to get better results. We also likely have a few higly correlated values due to likely co-linearity between Family size and the variables that fed into it. "
   ]
  },
  {
   "cell_type": "code",
   "execution_count": 35,
   "id": "0901f9a2",
   "metadata": {
    "execution": {
     "iopub.execute_input": "2022-11-24T19:01:02.272342Z",
     "iopub.status.busy": "2022-11-24T19:01:02.271895Z",
     "iopub.status.idle": "2022-11-24T19:01:02.315000Z",
     "shell.execute_reply": "2022-11-24T19:01:02.313732Z"
    },
    "papermill": {
     "duration": 0.071317,
     "end_time": "2022-11-24T19:01:02.318440",
     "exception": false,
     "start_time": "2022-11-24T19:01:02.247123",
     "status": "completed"
    },
    "tags": []
   },
   "outputs": [
    {
     "name": "stdout",
     "output_type": "stream",
     "text": [
      "Optimization terminated successfully.\n",
      "         Current function value: 0.443796\n",
      "         Iterations 6\n"
     ]
    },
    {
     "data": {
      "text/html": [
       "<table class=\"simpletable\">\n",
       "<caption>Logit Regression Results</caption>\n",
       "<tr>\n",
       "  <th>Dep. Variable:</th>       <td>Survived</td>     <th>  No. Observations:  </th>  <td>   891</td>  \n",
       "</tr>\n",
       "<tr>\n",
       "  <th>Model:</th>                 <td>Logit</td>      <th>  Df Residuals:      </th>  <td>   886</td>  \n",
       "</tr>\n",
       "<tr>\n",
       "  <th>Method:</th>                 <td>MLE</td>       <th>  Df Model:          </th>  <td>     4</td>  \n",
       "</tr>\n",
       "<tr>\n",
       "  <th>Date:</th>            <td>Thu, 24 Nov 2022</td> <th>  Pseudo R-squ.:     </th>  <td>0.3336</td>  \n",
       "</tr>\n",
       "<tr>\n",
       "  <th>Time:</th>                <td>19:01:02</td>     <th>  Log-Likelihood:    </th> <td> -395.42</td> \n",
       "</tr>\n",
       "<tr>\n",
       "  <th>converged:</th>             <td>True</td>       <th>  LL-Null:           </th> <td> -593.33</td> \n",
       "</tr>\n",
       "<tr>\n",
       "  <th>Covariance Type:</th>     <td>nonrobust</td>    <th>  LLR p-value:       </th> <td>2.236e-84</td>\n",
       "</tr>\n",
       "</table>\n",
       "<table class=\"simpletable\">\n",
       "<tr>\n",
       "     <td></td>       <th>coef</th>     <th>std err</th>      <th>z</th>      <th>P>|z|</th>  <th>[0.025</th>    <th>0.975]</th>  \n",
       "</tr>\n",
       "<tr>\n",
       "  <th>const</th>  <td>    2.4522</td> <td>    0.424</td> <td>    5.779</td> <td> 0.000</td> <td>    1.621</td> <td>    3.284</td>\n",
       "</tr>\n",
       "<tr>\n",
       "  <th>Pclass</th> <td>   -1.1724</td> <td>    0.120</td> <td>   -9.792</td> <td> 0.000</td> <td>   -1.407</td> <td>   -0.938</td>\n",
       "</tr>\n",
       "<tr>\n",
       "  <th>Age</th>    <td>   -0.0398</td> <td>    0.008</td> <td>   -5.131</td> <td> 0.000</td> <td>   -0.055</td> <td>   -0.025</td>\n",
       "</tr>\n",
       "<tr>\n",
       "  <th>SibSp</th>  <td>   -0.3578</td> <td>    0.104</td> <td>   -3.439</td> <td> 0.001</td> <td>   -0.562</td> <td>   -0.154</td>\n",
       "</tr>\n",
       "<tr>\n",
       "  <th>Female</th> <td>    2.7398</td> <td>    0.194</td> <td>   14.112</td> <td> 0.000</td> <td>    2.359</td> <td>    3.120</td>\n",
       "</tr>\n",
       "</table>"
      ],
      "text/plain": [
       "<class 'statsmodels.iolib.summary.Summary'>\n",
       "\"\"\"\n",
       "                           Logit Regression Results                           \n",
       "==============================================================================\n",
       "Dep. Variable:               Survived   No. Observations:                  891\n",
       "Model:                          Logit   Df Residuals:                      886\n",
       "Method:                           MLE   Df Model:                            4\n",
       "Date:                Thu, 24 Nov 2022   Pseudo R-squ.:                  0.3336\n",
       "Time:                        19:01:02   Log-Likelihood:                -395.42\n",
       "converged:                       True   LL-Null:                       -593.33\n",
       "Covariance Type:            nonrobust   LLR p-value:                 2.236e-84\n",
       "==============================================================================\n",
       "                 coef    std err          z      P>|z|      [0.025      0.975]\n",
       "------------------------------------------------------------------------------\n",
       "const          2.4522      0.424      5.779      0.000       1.621       3.284\n",
       "Pclass        -1.1724      0.120     -9.792      0.000      -1.407      -0.938\n",
       "Age           -0.0398      0.008     -5.131      0.000      -0.055      -0.025\n",
       "SibSp         -0.3578      0.104     -3.439      0.001      -0.562      -0.154\n",
       "Female         2.7398      0.194     14.112      0.000       2.359       3.120\n",
       "==============================================================================\n",
       "\"\"\""
      ]
     },
     "execution_count": 35,
     "metadata": {},
     "output_type": "execute_result"
    }
   ],
   "source": [
    "X2 = train.drop(columns=['Survived', 'Embarked_S','Embarked_C', 'Embarked_Q', 'Fare', 'Parch', 'Family Size'])\n",
    "X2_const = sm.add_constant(X2)\n",
    "\n",
    "model2 = sm.Logit(y, X2_const)\n",
    "\n",
    "model2_result = model2.fit()\n",
    "model2_result.summary()"
   ]
  },
  {
   "cell_type": "code",
   "execution_count": 36,
   "id": "e2477598",
   "metadata": {
    "execution": {
     "iopub.execute_input": "2022-11-24T19:01:02.395722Z",
     "iopub.status.busy": "2022-11-24T19:01:02.394979Z",
     "iopub.status.idle": "2022-11-24T19:01:02.407333Z",
     "shell.execute_reply": "2022-11-24T19:01:02.405136Z"
    },
    "papermill": {
     "duration": 0.055417,
     "end_time": "2022-11-24T19:01:02.411093",
     "exception": false,
     "start_time": "2022-11-24T19:01:02.355676",
     "status": "completed"
    },
    "tags": []
   },
   "outputs": [
    {
     "name": "stdout",
     "output_type": "stream",
     "text": [
      "Our second model accuracy is 78.8%\n"
     ]
    }
   ],
   "source": [
    "predictions_prob2 = model2_result.predict(X2_const)\n",
    "predictions2 = np.where(predictions_prob2 >= 0.5, 1, 0)\n",
    "accuracy2 = (predictions2 == y).mean()\n",
    "print(f\"Our second model accuracy is {accuracy2.round(3)*100}%\")"
   ]
  },
  {
   "cell_type": "markdown",
   "id": "e2b602b5",
   "metadata": {
    "papermill": {
     "duration": 0.023094,
     "end_time": "2022-11-24T19:01:02.458810",
     "exception": false,
     "start_time": "2022-11-24T19:01:02.435716",
     "status": "completed"
    },
    "tags": []
   },
   "source": [
    "- The changes we made to this model has actually decrease, so likely some of the variables we removed held some predictive values for the model. \n",
    "- Let's look at what the remaining variables and their co-efficients tell us. "
   ]
  },
  {
   "cell_type": "markdown",
   "id": "fc1606fa",
   "metadata": {
    "papermill": {
     "duration": 0.021803,
     "end_time": "2022-11-24T19:01:02.502841",
     "exception": false,
     "start_time": "2022-11-24T19:01:02.481038",
     "status": "completed"
    },
    "tags": []
   },
   "source": [
    "# Model Evaluation and Interpretation"
   ]
  },
  {
   "cell_type": "code",
   "execution_count": 37,
   "id": "deb33f72",
   "metadata": {
    "execution": {
     "iopub.execute_input": "2022-11-24T19:01:02.550635Z",
     "iopub.status.busy": "2022-11-24T19:01:02.549831Z",
     "iopub.status.idle": "2022-11-24T19:01:02.982387Z",
     "shell.execute_reply": "2022-11-24T19:01:02.980830Z"
    },
    "papermill": {
     "duration": 0.460265,
     "end_time": "2022-11-24T19:01:02.985436",
     "exception": false,
     "start_time": "2022-11-24T19:01:02.525171",
     "status": "completed"
    },
    "tags": []
   },
   "outputs": [
    {
     "data": {
      "image/png": "[encoded data removed]",
      "text/plain": [
       "<Figure size 1080x360 with 2 Axes>"
      ]
     },
     "metadata": {
      "needs_background": "light"
     },
     "output_type": "display_data"
    }
   ],
   "source": [
    "coefs_df = pd.DataFrame(data={\"coefs\": model2_result.params, \"odds_ratios\": np.exp(model2_result.params)})\n",
    "\n",
    "plt.subplots(1,2, figsize=(15,5))\n",
    "plt.subplot(1,2,1)\n",
    "coefs_df[\"coefs\"].sort_values().plot(\n",
    "    kind=\"barh\", \n",
    "    color=np.where(coefs_df[\"coefs\"].sort_values() <= 0, \"purple\", \"green\"),\n",
    ")\n",
    "sns.despine()\n",
    "plt.vlines(0, ymin=-1, ymax=10, color=\"black\", linestyle=\"--\")\n",
    "plt.title(\"Coefficients of Model 2\")\n",
    "\n",
    "plt.subplot(1,2,2)\n",
    "coefs_df[\"odds_ratios\"].sort_values().plot(\n",
    "    kind=\"barh\", \n",
    "    color=np.where(coefs_df[\"odds_ratios\"].sort_values() <= 1, \"purple\", \"green\"))\n",
    "sns.despine()\n",
    "plt.vlines(1, ymin=-1, ymax=10, color=\"black\", linestyle=\"--\")\n",
    "plt.title(\"Odds ratios based on Model 2\")\n",
    "plt.tight_layout()\n",
    "plt.show()"
   ]
  },
  {
   "cell_type": "markdown",
   "id": "f0e5b5d8",
   "metadata": {
    "papermill": {
     "duration": 0.022907,
     "end_time": "2022-11-24T19:01:03.031149",
     "exception": false,
     "start_time": "2022-11-24T19:01:03.008242",
     "status": "completed"
    },
    "tags": []
   },
   "source": [
    "- The main takeaway from this view is that being female increases the chances of survival by nearly 16 times. We could argue that this was the most important factor in predicting whether a person survived on the Titanic. \n",
    "- Looking at the coefficient of Pclass - we could also argue that higher the class value, e.g. 3rd class, the less likely they were to survive."
   ]
  },
  {
   "cell_type": "code",
   "execution_count": 38,
   "id": "22924c99",
   "metadata": {
    "execution": {
     "iopub.execute_input": "2022-11-24T19:01:03.079590Z",
     "iopub.status.busy": "2022-11-24T19:01:03.078949Z",
     "iopub.status.idle": "2022-11-24T19:01:03.098258Z",
     "shell.execute_reply": "2022-11-24T19:01:03.096846Z"
    },
    "papermill": {
     "duration": 0.047428,
     "end_time": "2022-11-24T19:01:03.101303",
     "exception": false,
     "start_time": "2022-11-24T19:01:03.053875",
     "status": "completed"
    },
    "tags": []
   },
   "outputs": [
    {
     "data": {
      "text/html": [
       "<div>\n",
       "<style scoped>\n",
       "    .dataframe tbody tr th:only-of-type {\n",
       "        vertical-align: middle;\n",
       "    }\n",
       "\n",
       "    .dataframe tbody tr th {\n",
       "        vertical-align: top;\n",
       "    }\n",
       "\n",
       "    .dataframe thead th {\n",
       "        text-align: right;\n",
       "    }\n",
       "</style>\n",
       "<table border=\"1\" class=\"dataframe\">\n",
       "  <thead>\n",
       "    <tr style=\"text-align: right;\">\n",
       "      <th></th>\n",
       "      <th>Survived</th>\n",
       "      <th>Pclass</th>\n",
       "      <th>Age</th>\n",
       "      <th>SibSp</th>\n",
       "      <th>Parch</th>\n",
       "      <th>Fare</th>\n",
       "      <th>Female</th>\n",
       "      <th>Embarked_S</th>\n",
       "      <th>Embarked_C</th>\n",
       "      <th>Embarked_Q</th>\n",
       "      <th>Family Size</th>\n",
       "    </tr>\n",
       "  </thead>\n",
       "  <tbody>\n",
       "    <tr>\n",
       "      <th>0</th>\n",
       "      <td>0</td>\n",
       "      <td>3</td>\n",
       "      <td>22.0</td>\n",
       "      <td>1</td>\n",
       "      <td>0</td>\n",
       "      <td>7.2500</td>\n",
       "      <td>0</td>\n",
       "      <td>1</td>\n",
       "      <td>0</td>\n",
       "      <td>0</td>\n",
       "      <td>1</td>\n",
       "    </tr>\n",
       "    <tr>\n",
       "      <th>1</th>\n",
       "      <td>1</td>\n",
       "      <td>1</td>\n",
       "      <td>38.0</td>\n",
       "      <td>1</td>\n",
       "      <td>0</td>\n",
       "      <td>71.2833</td>\n",
       "      <td>1</td>\n",
       "      <td>0</td>\n",
       "      <td>1</td>\n",
       "      <td>0</td>\n",
       "      <td>1</td>\n",
       "    </tr>\n",
       "    <tr>\n",
       "      <th>2</th>\n",
       "      <td>1</td>\n",
       "      <td>3</td>\n",
       "      <td>26.0</td>\n",
       "      <td>0</td>\n",
       "      <td>0</td>\n",
       "      <td>7.9250</td>\n",
       "      <td>1</td>\n",
       "      <td>1</td>\n",
       "      <td>0</td>\n",
       "      <td>0</td>\n",
       "      <td>0</td>\n",
       "    </tr>\n",
       "    <tr>\n",
       "      <th>3</th>\n",
       "      <td>1</td>\n",
       "      <td>1</td>\n",
       "      <td>35.0</td>\n",
       "      <td>1</td>\n",
       "      <td>0</td>\n",
       "      <td>53.1000</td>\n",
       "      <td>1</td>\n",
       "      <td>1</td>\n",
       "      <td>0</td>\n",
       "      <td>0</td>\n",
       "      <td>1</td>\n",
       "    </tr>\n",
       "    <tr>\n",
       "      <th>4</th>\n",
       "      <td>0</td>\n",
       "      <td>3</td>\n",
       "      <td>35.0</td>\n",
       "      <td>0</td>\n",
       "      <td>0</td>\n",
       "      <td>8.0500</td>\n",
       "      <td>0</td>\n",
       "      <td>1</td>\n",
       "      <td>0</td>\n",
       "      <td>0</td>\n",
       "      <td>0</td>\n",
       "    </tr>\n",
       "  </tbody>\n",
       "</table>\n",
       "</div>"
      ],
      "text/plain": [
       "   Survived  Pclass   Age  SibSp  Parch     Fare  Female  Embarked_S  \\\n",
       "0         0       3  22.0      1      0   7.2500       0           1   \n",
       "1         1       1  38.0      1      0  71.2833       1           0   \n",
       "2         1       3  26.0      0      0   7.9250       1           1   \n",
       "3         1       1  35.0      1      0  53.1000       1           1   \n",
       "4         0       3  35.0      0      0   8.0500       0           1   \n",
       "\n",
       "   Embarked_C  Embarked_Q  Family Size  \n",
       "0           0           0            1  \n",
       "1           1           0            1  \n",
       "2           0           0            0  \n",
       "3           0           0            1  \n",
       "4           0           0            0  "
      ]
     },
     "execution_count": 38,
     "metadata": {},
     "output_type": "execute_result"
    }
   ],
   "source": [
    "train.head()"
   ]
  },
  {
   "cell_type": "markdown",
   "id": "0546f33a",
   "metadata": {
    "papermill": {
     "duration": 0.022158,
     "end_time": "2022-11-24T19:01:03.146718",
     "exception": false,
     "start_time": "2022-11-24T19:01:03.124560",
     "status": "completed"
    },
    "tags": []
   },
   "source": [
    "Will make a few changes to the training dataset based on what we've seen in our initial attempt at predicting survival. \n",
    "\n",
    "- Remove:\n",
    "    - Age - had a minimal impact on prediction \n",
    "    - SibSp and Parch - will remove those, but will binarise them to see if having family improved survival rate rather than how large the family size was\n",
    "    - Embarked_X - those variables proved to be statistically insignificant in the prediction \n",
    "    - Fare - Again seemed to be statistically insignificant - and should be atleast partially captured by Class"
   ]
  },
  {
   "cell_type": "code",
   "execution_count": 39,
   "id": "1f6fa30a",
   "metadata": {
    "execution": {
     "iopub.execute_input": "2022-11-24T19:01:03.194811Z",
     "iopub.status.busy": "2022-11-24T19:01:03.194053Z",
     "iopub.status.idle": "2022-11-24T19:01:03.210694Z",
     "shell.execute_reply": "2022-11-24T19:01:03.209457Z"
    },
    "papermill": {
     "duration": 0.044351,
     "end_time": "2022-11-24T19:01:03.213819",
     "exception": false,
     "start_time": "2022-11-24T19:01:03.169468",
     "status": "completed"
    },
    "tags": []
   },
   "outputs": [
    {
     "data": {
      "text/html": [
       "<div>\n",
       "<style scoped>\n",
       "    .dataframe tbody tr th:only-of-type {\n",
       "        vertical-align: middle;\n",
       "    }\n",
       "\n",
       "    .dataframe tbody tr th {\n",
       "        vertical-align: top;\n",
       "    }\n",
       "\n",
       "    .dataframe thead th {\n",
       "        text-align: right;\n",
       "    }\n",
       "</style>\n",
       "<table border=\"1\" class=\"dataframe\">\n",
       "  <thead>\n",
       "    <tr style=\"text-align: right;\">\n",
       "      <th></th>\n",
       "      <th>Survived</th>\n",
       "      <th>Pclass</th>\n",
       "      <th>Female</th>\n",
       "      <th>Family</th>\n",
       "    </tr>\n",
       "  </thead>\n",
       "  <tbody>\n",
       "    <tr>\n",
       "      <th>0</th>\n",
       "      <td>0</td>\n",
       "      <td>3</td>\n",
       "      <td>0</td>\n",
       "      <td>1</td>\n",
       "    </tr>\n",
       "    <tr>\n",
       "      <th>1</th>\n",
       "      <td>1</td>\n",
       "      <td>1</td>\n",
       "      <td>1</td>\n",
       "      <td>1</td>\n",
       "    </tr>\n",
       "    <tr>\n",
       "      <th>2</th>\n",
       "      <td>1</td>\n",
       "      <td>3</td>\n",
       "      <td>1</td>\n",
       "      <td>0</td>\n",
       "    </tr>\n",
       "    <tr>\n",
       "      <th>3</th>\n",
       "      <td>1</td>\n",
       "      <td>1</td>\n",
       "      <td>1</td>\n",
       "      <td>1</td>\n",
       "    </tr>\n",
       "    <tr>\n",
       "      <th>4</th>\n",
       "      <td>0</td>\n",
       "      <td>3</td>\n",
       "      <td>0</td>\n",
       "      <td>0</td>\n",
       "    </tr>\n",
       "  </tbody>\n",
       "</table>\n",
       "</div>"
      ],
      "text/plain": [
       "   Survived  Pclass  Female  Family\n",
       "0         0       3       0       1\n",
       "1         1       1       1       1\n",
       "2         1       3       1       0\n",
       "3         1       1       1       1\n",
       "4         0       3       0       0"
      ]
     },
     "execution_count": 39,
     "metadata": {},
     "output_type": "execute_result"
    }
   ],
   "source": [
    "train_modelling = train.copy()\n",
    "train_modelling['Family'] = [1 if (x > 0) else 0 for x in train_modelling['Family Size']]\n",
    "train_modelling = train_modelling.drop(columns=['Age', 'SibSp', 'Fare','Parch', 'Embarked_S', 'Embarked_C', 'Embarked_Q', 'Family Size'])\n",
    "train_modelling.head()"
   ]
  },
  {
   "cell_type": "code",
   "execution_count": 40,
   "id": "6827aba4",
   "metadata": {
    "execution": {
     "iopub.execute_input": "2022-11-24T19:01:03.261682Z",
     "iopub.status.busy": "2022-11-24T19:01:03.260954Z",
     "iopub.status.idle": "2022-11-24T19:01:03.746201Z",
     "shell.execute_reply": "2022-11-24T19:01:03.745022Z"
    },
    "papermill": {
     "duration": 0.512797,
     "end_time": "2022-11-24T19:01:03.749457",
     "exception": false,
     "start_time": "2022-11-24T19:01:03.236660",
     "status": "completed"
    },
    "tags": []
   },
   "outputs": [],
   "source": [
    "from sklearn.model_selection import train_test_split, GridSearchCV\n",
    "from sklearn.linear_model import LogisticRegression\n",
    "from sklearn import svm\n",
    "from sklearn.neighbors import KNeighborsClassifier\n",
    "from sklearn.ensemble import RandomForestClassifier\n",
    "import xgboost as xgb\n",
    "from sklearn.metrics import accuracy_score, classification_report, roc_auc_score, plot_roc_curve, confusion_matrix, confusion_matrix, plot_confusion_matrix, roc_curve, auc"
   ]
  },
  {
   "cell_type": "code",
   "execution_count": 41,
   "id": "40984296",
   "metadata": {
    "execution": {
     "iopub.execute_input": "2022-11-24T19:01:03.798077Z",
     "iopub.status.busy": "2022-11-24T19:01:03.797605Z",
     "iopub.status.idle": "2022-11-24T19:01:03.808643Z",
     "shell.execute_reply": "2022-11-24T19:01:03.807205Z"
    },
    "papermill": {
     "duration": 0.039035,
     "end_time": "2022-11-24T19:01:03.812095",
     "exception": false,
     "start_time": "2022-11-24T19:01:03.773060",
     "status": "completed"
    },
    "tags": []
   },
   "outputs": [
    {
     "name": "stdout",
     "output_type": "stream",
     "text": [
      "Train Shape: (712, 3) (712,)\n",
      "Test Shape: (179, 3) (179,)\n"
     ]
    }
   ],
   "source": [
    "X_train, X_test, y_train, y_test = train_test_split(train_modelling.drop(columns=['Survived']), y, test_size=0.2,)\n",
    "\n",
    "print('Train Shape:',X_train.shape, y_train.shape)\n",
    "print('Test Shape:', X_test.shape, y_test.shape)\n"
   ]
  },
  {
   "cell_type": "code",
   "execution_count": 42,
   "id": "1a24362b",
   "metadata": {
    "execution": {
     "iopub.execute_input": "2022-11-24T19:01:03.862196Z",
     "iopub.status.busy": "2022-11-24T19:01:03.861195Z",
     "iopub.status.idle": "2022-11-24T19:01:04.409395Z",
     "shell.execute_reply": "2022-11-24T19:01:04.408160Z"
    },
    "papermill": {
     "duration": 0.576557,
     "end_time": "2022-11-24T19:01:04.413137",
     "exception": false,
     "start_time": "2022-11-24T19:01:03.836580",
     "status": "completed"
    },
    "tags": []
   },
   "outputs": [
    {
     "name": "stdout",
     "output_type": "stream",
     "text": [
      "*** Logistic Regression ***\n",
      "Logistic Regression Train Score:  0.7893258426966292\n",
      "Logistic Regression Test Score:  0.776536312849162\n",
      " \n",
      "*** k Neighbours ***\n",
      "kNeighbours Train Score:  0.7879213483146067\n",
      "kNeighbours Test Score:  0.770949720670391\n",
      " \n",
      "*** Random Forest Classifier ***\n",
      "Random Forest Train Score:  0.8075842696629213\n",
      "Random Forest Test Score:  0.7821229050279329\n",
      " \n",
      "*** xGBoost Classifier ***\n",
      "XGB Train Score:  0.8075842696629213\n",
      "XGB Test Score:  0.7821229050279329\n",
      " \n"
     ]
    }
   ],
   "source": [
    "print('*** Logistic Regression ***')\n",
    "log_reg = LogisticRegression()\n",
    "log_reg.fit(X_train, y_train)\n",
    "print('Logistic Regression Train Score: ', log_reg.score(X_train, y_train))\n",
    "print('Logistic Regression Test Score: ', log_reg.score(X_test, y_test))\n",
    "print(' ')\n",
    "\n",
    "# print('*** Support Vector Machine ***')\n",
    "# svm_model = svm.SVC()\n",
    "# svm_model.fit(X_train, y_train)\n",
    "# print('SVM Train Score: ', svm_model.score(X_train, y_train))\n",
    "# print('SVM Test Score: ', svm_model.score(X_test, y_test))\n",
    "# print(' ')\n",
    "\n",
    "print('*** k Neighbours ***')\n",
    "k_ns = KNeighborsClassifier()\n",
    "k_ns.fit(X_train, y_train)\n",
    "print('kNeighbours Train Score: ', k_ns.score(X_train, y_train))\n",
    "print('kNeighbours Test Score: ', k_ns.score(X_test, y_test))\n",
    "print(' ')\n",
    "\n",
    "print('*** Random Forest Classifier ***')\n",
    "rand_forest = RandomForestClassifier(max_depth=5, random_state=1)\n",
    "rand_forest.fit(X_train, y_train)\n",
    "print('Random Forest Train Score: ', rand_forest.score(X_train, y_train))\n",
    "print('Random Forest Test Score: ', rand_forest.score(X_test, y_test))\n",
    "print(' ')\n",
    "\n",
    "print('*** xGBoost Classifier ***')\n",
    "boosted_model = xgb.XGBClassifier(max_depth=5, random_state=1)\n",
    "boosted_model.fit(X_train, y_train)\n",
    "print('XGB Train Score: ', boosted_model.score(X_train, y_train))\n",
    "print('XGB Test Score: ', boosted_model.score(X_test, y_test))\n",
    "print(' ')"
   ]
  }
 ],
 "metadata": {
  "kernelspec": {
   "display_name": "Python 3",
   "language": "python",
   "name": "python3"
  },
  "language_info": {
   "codemirror_mode": {
    "name": "ipython",
    "version": 3
   },
   "file_extension": ".py",
   "mimetype": "text/x-python",
   "name": "python",
   "nbconvert_exporter": "python",
   "pygments_lexer": "ipython3",
   "version": "3.7.12"
  },
  "papermill": {
   "default_parameters": {},
   "duration": 42.336481,
   "end_time": "2022-11-24T19:01:05.663833",
   "environment_variables": {},
   "exception": null,
   "input_path": "__notebook__.ipynb",
   "output_path": "__notebook__.ipynb",
   "parameters": {},
   "start_time": "2022-11-24T19:00:23.327352",
   "version": "2.3.4"
  }
 },
 "nbformat": 4,
 "nbformat_minor": 5
}
